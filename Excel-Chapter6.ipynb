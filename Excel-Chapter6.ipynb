{
  "cells": [
    {
      "cell_type": "markdown",
      "source": [
        "## Basic Column Operations"
      ],
      "metadata": {
        "nteract": {
          "transient": {
            "deleting": false
          }
        }
      }
    },
    {
      "cell_type": "code",
      "source": [
        "import pandas as pd\n",
        "import numpy as np"
      ],
      "outputs": [],
      "execution_count": 9,
      "metadata": {
        "execution": {
          "iopub.status.busy": "2020-11-20T12:34:56.700Z",
          "iopub.execute_input": "2020-11-20T12:34:56.706Z",
          "shell.execute_reply": "2020-11-20T12:34:56.721Z",
          "iopub.status.idle": "2020-11-20T12:34:56.715Z"
        }
      }
    },
    {
      "cell_type": "markdown",
      "source": [
        "### Read csv file and load data "
      ],
      "metadata": {}
    },
    {
      "cell_type": "code",
      "source": [
        "df = pd.read_excel('Data/Excel_06_01.xlsx')"
      ],
      "outputs": [],
      "execution_count": 18,
      "metadata": {
        "execution": {
          "iopub.status.busy": "2020-11-20T12:38:46.358Z",
          "iopub.execute_input": "2020-11-20T12:38:46.364Z",
          "shell.execute_reply": "2020-11-20T12:38:46.382Z",
          "iopub.status.idle": "2020-11-20T12:38:46.376Z"
        }
      }
    },
    {
      "cell_type": "code",
      "source": [
        "df"
      ],
      "outputs": [
        {
          "output_type": "execute_result",
          "execution_count": 11,
          "data": {
            "text/plain": "   ColA  ColB  ColC\n0    10     5     5\n1    56    23    45\n2    78    67    48\n3    32    98    49\n4    12    22    26\n5    10    42    79",
            "text/html": "<div>\n<style scoped>\n    .dataframe tbody tr th:only-of-type {\n        vertical-align: middle;\n    }\n\n    .dataframe tbody tr th {\n        vertical-align: top;\n    }\n\n    .dataframe thead th {\n        text-align: right;\n    }\n</style>\n<table border=\"1\" class=\"dataframe\">\n  <thead>\n    <tr style=\"text-align: right;\">\n      <th></th>\n      <th>ColA</th>\n      <th>ColB</th>\n      <th>ColC</th>\n    </tr>\n  </thead>\n  <tbody>\n    <tr>\n      <th>0</th>\n      <td>10</td>\n      <td>5</td>\n      <td>5</td>\n    </tr>\n    <tr>\n      <th>1</th>\n      <td>56</td>\n      <td>23</td>\n      <td>45</td>\n    </tr>\n    <tr>\n      <th>2</th>\n      <td>78</td>\n      <td>67</td>\n      <td>48</td>\n    </tr>\n    <tr>\n      <th>3</th>\n      <td>32</td>\n      <td>98</td>\n      <td>49</td>\n    </tr>\n    <tr>\n      <th>4</th>\n      <td>12</td>\n      <td>22</td>\n      <td>26</td>\n    </tr>\n    <tr>\n      <th>5</th>\n      <td>10</td>\n      <td>42</td>\n      <td>79</td>\n    </tr>\n  </tbody>\n</table>\n</div>"
          },
          "metadata": {}
        }
      ],
      "execution_count": 11,
      "metadata": {
        "scrolled": true,
        "execution": {
          "iopub.status.busy": "2020-11-20T12:34:58.717Z",
          "iopub.execute_input": "2020-11-20T12:34:58.724Z",
          "iopub.status.idle": "2020-11-20T12:34:58.740Z",
          "shell.execute_reply": "2020-11-20T12:34:58.749Z"
        }
      }
    },
    {
      "cell_type": "markdown",
      "source": [
        "### Add Col A, Col B and store result in column named Sum"
      ],
      "metadata": {}
    },
    {
      "cell_type": "code",
      "source": [
        "df['Sum'] = df['ColA'] + df['ColB']"
      ],
      "outputs": [],
      "execution_count": 12,
      "metadata": {
        "execution": {
          "iopub.status.busy": "2020-11-20T12:35:01.230Z",
          "iopub.execute_input": "2020-11-20T12:35:01.235Z",
          "shell.execute_reply": "2020-11-20T12:35:01.250Z",
          "iopub.status.idle": "2020-11-20T12:35:01.246Z"
        }
      }
    },
    {
      "cell_type": "code",
      "source": [
        "df"
      ],
      "outputs": [
        {
          "output_type": "execute_result",
          "execution_count": 13,
          "data": {
            "text/plain": "   ColA  ColB  ColC  Sum\n0    10     5     5   15\n1    56    23    45   79\n2    78    67    48  145\n3    32    98    49  130\n4    12    22    26   34\n5    10    42    79   52",
            "text/html": "<div>\n<style scoped>\n    .dataframe tbody tr th:only-of-type {\n        vertical-align: middle;\n    }\n\n    .dataframe tbody tr th {\n        vertical-align: top;\n    }\n\n    .dataframe thead th {\n        text-align: right;\n    }\n</style>\n<table border=\"1\" class=\"dataframe\">\n  <thead>\n    <tr style=\"text-align: right;\">\n      <th></th>\n      <th>ColA</th>\n      <th>ColB</th>\n      <th>ColC</th>\n      <th>Sum</th>\n    </tr>\n  </thead>\n  <tbody>\n    <tr>\n      <th>0</th>\n      <td>10</td>\n      <td>5</td>\n      <td>5</td>\n      <td>15</td>\n    </tr>\n    <tr>\n      <th>1</th>\n      <td>56</td>\n      <td>23</td>\n      <td>45</td>\n      <td>79</td>\n    </tr>\n    <tr>\n      <th>2</th>\n      <td>78</td>\n      <td>67</td>\n      <td>48</td>\n      <td>145</td>\n    </tr>\n    <tr>\n      <th>3</th>\n      <td>32</td>\n      <td>98</td>\n      <td>49</td>\n      <td>130</td>\n    </tr>\n    <tr>\n      <th>4</th>\n      <td>12</td>\n      <td>22</td>\n      <td>26</td>\n      <td>34</td>\n    </tr>\n    <tr>\n      <th>5</th>\n      <td>10</td>\n      <td>42</td>\n      <td>79</td>\n      <td>52</td>\n    </tr>\n  </tbody>\n</table>\n</div>"
          },
          "metadata": {}
        }
      ],
      "execution_count": 13,
      "metadata": {
        "collapsed": true,
        "jupyter": {
          "source_hidden": false,
          "outputs_hidden": false
        },
        "nteract": {
          "transient": {
            "deleting": false
          }
        },
        "execution": {
          "iopub.status.busy": "2020-11-20T12:35:01.807Z",
          "iopub.execute_input": "2020-11-20T12:35:01.812Z",
          "iopub.status.idle": "2020-11-20T12:35:01.824Z",
          "shell.execute_reply": "2020-11-20T12:35:01.831Z"
        }
      }
    },
    {
      "cell_type": "markdown",
      "source": [
        "### Subtraction"
      ],
      "metadata": {}
    },
    {
      "cell_type": "code",
      "source": [
        "df['Sub'] = df['ColA'] - df['ColB'] "
      ],
      "outputs": [],
      "execution_count": 14,
      "metadata": {
        "execution": {
          "iopub.status.busy": "2020-11-20T12:35:15.197Z",
          "iopub.execute_input": "2020-11-20T12:35:15.203Z",
          "shell.execute_reply": "2020-11-20T12:35:15.220Z",
          "iopub.status.idle": "2020-11-20T12:35:15.214Z"
        }
      }
    },
    {
      "cell_type": "code",
      "source": [
        "df"
      ],
      "outputs": [
        {
          "output_type": "execute_result",
          "execution_count": 15,
          "data": {
            "text/plain": "   ColA  ColB  ColC  Sum  Sub\n0    10     5     5   15    5\n1    56    23    45   79   33\n2    78    67    48  145   11\n3    32    98    49  130  -66\n4    12    22    26   34  -10\n5    10    42    79   52  -32",
            "text/html": "<div>\n<style scoped>\n    .dataframe tbody tr th:only-of-type {\n        vertical-align: middle;\n    }\n\n    .dataframe tbody tr th {\n        vertical-align: top;\n    }\n\n    .dataframe thead th {\n        text-align: right;\n    }\n</style>\n<table border=\"1\" class=\"dataframe\">\n  <thead>\n    <tr style=\"text-align: right;\">\n      <th></th>\n      <th>ColA</th>\n      <th>ColB</th>\n      <th>ColC</th>\n      <th>Sum</th>\n      <th>Sub</th>\n    </tr>\n  </thead>\n  <tbody>\n    <tr>\n      <th>0</th>\n      <td>10</td>\n      <td>5</td>\n      <td>5</td>\n      <td>15</td>\n      <td>5</td>\n    </tr>\n    <tr>\n      <th>1</th>\n      <td>56</td>\n      <td>23</td>\n      <td>45</td>\n      <td>79</td>\n      <td>33</td>\n    </tr>\n    <tr>\n      <th>2</th>\n      <td>78</td>\n      <td>67</td>\n      <td>48</td>\n      <td>145</td>\n      <td>11</td>\n    </tr>\n    <tr>\n      <th>3</th>\n      <td>32</td>\n      <td>98</td>\n      <td>49</td>\n      <td>130</td>\n      <td>-66</td>\n    </tr>\n    <tr>\n      <th>4</th>\n      <td>12</td>\n      <td>22</td>\n      <td>26</td>\n      <td>34</td>\n      <td>-10</td>\n    </tr>\n    <tr>\n      <th>5</th>\n      <td>10</td>\n      <td>42</td>\n      <td>79</td>\n      <td>52</td>\n      <td>-32</td>\n    </tr>\n  </tbody>\n</table>\n</div>"
          },
          "metadata": {}
        }
      ],
      "execution_count": 15,
      "metadata": {
        "collapsed": true,
        "jupyter": {
          "source_hidden": false,
          "outputs_hidden": false
        },
        "nteract": {
          "transient": {
            "deleting": false
          }
        },
        "execution": {
          "iopub.status.busy": "2020-11-20T12:35:17.551Z",
          "iopub.execute_input": "2020-11-20T12:35:17.559Z",
          "iopub.status.idle": "2020-11-20T12:35:17.571Z",
          "shell.execute_reply": "2020-11-20T12:35:17.576Z"
        }
      }
    },
    {
      "cell_type": "markdown",
      "source": [
        "### Multiplication"
      ],
      "metadata": {}
    },
    {
      "cell_type": "code",
      "source": [
        "df['Mul'] = df['ColB'] * df['ColC'] "
      ],
      "outputs": [],
      "execution_count": 16,
      "metadata": {
        "execution": {
          "iopub.status.busy": "2020-11-20T12:36:03.449Z",
          "iopub.execute_input": "2020-11-20T12:36:03.455Z",
          "iopub.status.idle": "2020-11-20T12:36:03.465Z",
          "shell.execute_reply": "2020-11-20T12:36:03.471Z"
        }
      }
    },
    {
      "cell_type": "code",
      "source": [
        "df"
      ],
      "outputs": [
        {
          "output_type": "execute_result",
          "execution_count": 17,
          "data": {
            "text/plain": "   ColA  ColB  ColC  Sum  Sub   Mul\n0    10     5     5   15    5    25\n1    56    23    45   79   33  1035\n2    78    67    48  145   11  3216\n3    32    98    49  130  -66  4802\n4    12    22    26   34  -10   572\n5    10    42    79   52  -32  3318",
            "text/html": "<div>\n<style scoped>\n    .dataframe tbody tr th:only-of-type {\n        vertical-align: middle;\n    }\n\n    .dataframe tbody tr th {\n        vertical-align: top;\n    }\n\n    .dataframe thead th {\n        text-align: right;\n    }\n</style>\n<table border=\"1\" class=\"dataframe\">\n  <thead>\n    <tr style=\"text-align: right;\">\n      <th></th>\n      <th>ColA</th>\n      <th>ColB</th>\n      <th>ColC</th>\n      <th>Sum</th>\n      <th>Sub</th>\n      <th>Mul</th>\n    </tr>\n  </thead>\n  <tbody>\n    <tr>\n      <th>0</th>\n      <td>10</td>\n      <td>5</td>\n      <td>5</td>\n      <td>15</td>\n      <td>5</td>\n      <td>25</td>\n    </tr>\n    <tr>\n      <th>1</th>\n      <td>56</td>\n      <td>23</td>\n      <td>45</td>\n      <td>79</td>\n      <td>33</td>\n      <td>1035</td>\n    </tr>\n    <tr>\n      <th>2</th>\n      <td>78</td>\n      <td>67</td>\n      <td>48</td>\n      <td>145</td>\n      <td>11</td>\n      <td>3216</td>\n    </tr>\n    <tr>\n      <th>3</th>\n      <td>32</td>\n      <td>98</td>\n      <td>49</td>\n      <td>130</td>\n      <td>-66</td>\n      <td>4802</td>\n    </tr>\n    <tr>\n      <th>4</th>\n      <td>12</td>\n      <td>22</td>\n      <td>26</td>\n      <td>34</td>\n      <td>-10</td>\n      <td>572</td>\n    </tr>\n    <tr>\n      <th>5</th>\n      <td>10</td>\n      <td>42</td>\n      <td>79</td>\n      <td>52</td>\n      <td>-32</td>\n      <td>3318</td>\n    </tr>\n  </tbody>\n</table>\n</div>"
          },
          "metadata": {}
        }
      ],
      "execution_count": 17,
      "metadata": {
        "execution": {
          "iopub.status.busy": "2020-11-20T12:36:17.863Z",
          "iopub.execute_input": "2020-11-20T12:36:17.878Z",
          "shell.execute_reply": "2020-11-20T12:36:17.897Z",
          "iopub.status.idle": "2020-11-20T12:36:17.891Z"
        }
      }
    },
    {
      "cell_type": "markdown",
      "source": [
        "### String operations"
      ],
      "metadata": {}
    },
    {
      "cell_type": "code",
      "source": [
        "df = pd.read_excel('Data/Excel_06_02.xlsx')"
      ],
      "outputs": [],
      "execution_count": 19,
      "metadata": {
        "execution": {
          "iopub.status.busy": "2020-11-20T12:38:54.969Z",
          "iopub.execute_input": "2020-11-20T12:38:54.976Z",
          "iopub.status.idle": "2020-11-20T12:38:54.987Z",
          "shell.execute_reply": "2020-11-20T12:38:54.996Z"
        }
      }
    },
    {
      "cell_type": "code",
      "source": [
        "df"
      ],
      "outputs": [
        {
          "output_type": "execute_result",
          "execution_count": 20,
          "data": {
            "text/plain": "  Str1 Str2\n0    a    f\n1    b    g\n2    c    h\n3    d    i\n4    e    j",
            "text/html": "<div>\n<style scoped>\n    .dataframe tbody tr th:only-of-type {\n        vertical-align: middle;\n    }\n\n    .dataframe tbody tr th {\n        vertical-align: top;\n    }\n\n    .dataframe thead th {\n        text-align: right;\n    }\n</style>\n<table border=\"1\" class=\"dataframe\">\n  <thead>\n    <tr style=\"text-align: right;\">\n      <th></th>\n      <th>Str1</th>\n      <th>Str2</th>\n    </tr>\n  </thead>\n  <tbody>\n    <tr>\n      <th>0</th>\n      <td>a</td>\n      <td>f</td>\n    </tr>\n    <tr>\n      <th>1</th>\n      <td>b</td>\n      <td>g</td>\n    </tr>\n    <tr>\n      <th>2</th>\n      <td>c</td>\n      <td>h</td>\n    </tr>\n    <tr>\n      <th>3</th>\n      <td>d</td>\n      <td>i</td>\n    </tr>\n    <tr>\n      <th>4</th>\n      <td>e</td>\n      <td>j</td>\n    </tr>\n  </tbody>\n</table>\n</div>"
          },
          "metadata": {}
        }
      ],
      "execution_count": 20,
      "metadata": {
        "collapsed": true,
        "jupyter": {
          "source_hidden": false,
          "outputs_hidden": false
        },
        "nteract": {
          "transient": {
            "deleting": false
          }
        },
        "execution": {
          "iopub.status.busy": "2020-11-20T12:40:10.312Z",
          "iopub.execute_input": "2020-11-20T12:40:10.318Z",
          "iopub.status.idle": "2020-11-20T12:40:10.334Z",
          "shell.execute_reply": "2020-11-20T12:40:10.341Z"
        }
      }
    },
    {
      "cell_type": "code",
      "source": [
        "df['string_append'] = df['Str1'] + df['Str2']"
      ],
      "outputs": [],
      "execution_count": 21,
      "metadata": {
        "collapsed": true,
        "jupyter": {
          "source_hidden": false,
          "outputs_hidden": false
        },
        "nteract": {
          "transient": {
            "deleting": false
          }
        },
        "execution": {
          "iopub.status.busy": "2020-11-20T12:40:44.161Z",
          "iopub.execute_input": "2020-11-20T12:40:44.167Z",
          "iopub.status.idle": "2020-11-20T12:40:44.179Z",
          "shell.execute_reply": "2020-11-20T12:40:44.187Z"
        }
      }
    },
    {
      "cell_type": "code",
      "source": [
        "df"
      ],
      "outputs": [
        {
          "output_type": "execute_result",
          "execution_count": 22,
          "data": {
            "text/plain": "  Str1 Str2 string_append\n0    a    f            af\n1    b    g            bg\n2    c    h            ch\n3    d    i            di\n4    e    j            ej",
            "text/html": "<div>\n<style scoped>\n    .dataframe tbody tr th:only-of-type {\n        vertical-align: middle;\n    }\n\n    .dataframe tbody tr th {\n        vertical-align: top;\n    }\n\n    .dataframe thead th {\n        text-align: right;\n    }\n</style>\n<table border=\"1\" class=\"dataframe\">\n  <thead>\n    <tr style=\"text-align: right;\">\n      <th></th>\n      <th>Str1</th>\n      <th>Str2</th>\n      <th>string_append</th>\n    </tr>\n  </thead>\n  <tbody>\n    <tr>\n      <th>0</th>\n      <td>a</td>\n      <td>f</td>\n      <td>af</td>\n    </tr>\n    <tr>\n      <th>1</th>\n      <td>b</td>\n      <td>g</td>\n      <td>bg</td>\n    </tr>\n    <tr>\n      <th>2</th>\n      <td>c</td>\n      <td>h</td>\n      <td>ch</td>\n    </tr>\n    <tr>\n      <th>3</th>\n      <td>d</td>\n      <td>i</td>\n      <td>di</td>\n    </tr>\n    <tr>\n      <th>4</th>\n      <td>e</td>\n      <td>j</td>\n      <td>ej</td>\n    </tr>\n  </tbody>\n</table>\n</div>"
          },
          "metadata": {}
        }
      ],
      "execution_count": 22,
      "metadata": {
        "collapsed": true,
        "jupyter": {
          "source_hidden": false,
          "outputs_hidden": false
        },
        "nteract": {
          "transient": {
            "deleting": false
          }
        },
        "execution": {
          "iopub.status.busy": "2020-11-20T12:40:46.543Z",
          "iopub.execute_input": "2020-11-20T12:40:46.549Z",
          "iopub.status.idle": "2020-11-20T12:40:46.570Z",
          "shell.execute_reply": "2020-11-20T12:40:46.576Z"
        }
      }
    },
    {
      "cell_type": "code",
      "source": [],
      "outputs": [],
      "execution_count": null,
      "metadata": {
        "collapsed": true,
        "jupyter": {
          "source_hidden": false,
          "outputs_hidden": false
        },
        "nteract": {
          "transient": {
            "deleting": false
          }
        }
      }
    }
  ],
  "metadata": {
    "kernelspec": {
      "display_name": "Python 3",
      "language": "python",
      "name": "python3"
    },
    "language_info": {
      "name": "python",
      "version": "3.7.6",
      "mimetype": "text/x-python",
      "codemirror_mode": {
        "name": "ipython",
        "version": 3
      },
      "pygments_lexer": "ipython3",
      "nbconvert_exporter": "python",
      "file_extension": ".py"
    },
    "nteract": {
      "version": "0.25.1"
    }
  },
  "nbformat": 4,
  "nbformat_minor": 4
}