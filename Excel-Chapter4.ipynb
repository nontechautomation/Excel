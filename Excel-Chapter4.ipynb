{
  "cells": [
    {
      "cell_type": "markdown",
      "source": [
        "## Excel - Chapter 1 - Basic CSV Operations\n",
        "\n",
        "#### Objective\n",
        "1. Reading csv file\n",
        "2. Exporting/copying csv file\n",
        "3. Convert csv to excel"
      ],
      "metadata": {
        "nteract": {
          "transient": {
            "deleting": false
          }
        }
      }
    },
    {
      "cell_type": "markdown",
      "source": [
        "## Importing required libraries\n"
      ],
      "metadata": {
        "nteract": {
          "transient": {
            "deleting": false
          }
        }
      }
    },
    {
      "cell_type": "code",
      "source": [
        "import pandas as pd"
      ],
      "outputs": [],
      "execution_count": 3,
      "metadata": {
        "collapsed": true,
        "jupyter": {
          "source_hidden": false,
          "outputs_hidden": false
        },
        "nteract": {
          "transient": {
            "deleting": false
          }
        },
        "execution": {
          "iopub.status.busy": "2020-09-24T06:50:11.839Z",
          "iopub.execute_input": "2020-09-24T06:50:11.854Z",
          "shell.execute_reply": "2020-09-24T06:50:11.893Z",
          "iopub.status.idle": "2020-09-24T06:50:11.881Z"
        }
      }
    },
    {
      "cell_type": "markdown",
      "source": [
        "## Reading CSV file\n",
        "\n",
        "* Here we are reading the csv file named ```datasets_countries.csv```\n",
        "* Since the file is placed inside the directory/folder named data, we have to specify the path as ```Data/datasets_countries.csv```\n",
        "* If the file is placed in other driver then full path can also be used \"C:\\data\\db\\test.csv\".\n",
        "* Here we are reading the file as a dataframe and storing it in variable **df**\n",
        "\n",
        "#### TIP\n",
        "* Pressing **ctrl + space** will autocomplete the syntax"
      ],
      "metadata": {
        "nteract": {
          "transient": {
            "deleting": false
          }
        }
      }
    },
    {
      "cell_type": "code",
      "source": [
        "df = pd.read_csv('Data/datasets_countries.csv')\n",
        "# df = pd.read_csv('D:\\Data\\datasets_countries.csv')"
      ],
      "outputs": [],
      "execution_count": 4,
      "metadata": {
        "collapsed": true,
        "jupyter": {
          "source_hidden": false,
          "outputs_hidden": false
        },
        "nteract": {
          "transient": {
            "deleting": false
          }
        },
        "execution": {
          "iopub.status.busy": "2020-09-24T06:50:16.086Z",
          "iopub.execute_input": "2020-09-24T06:50:16.097Z",
          "shell.execute_reply": "2020-09-24T06:50:16.155Z",
          "iopub.status.idle": "2020-09-24T06:50:16.168Z"
        }
      }
    },
    {
      "cell_type": "markdown",
      "source": [
        "## Getting list of CSV columns "
      ],
      "metadata": {
        "nteract": {
          "transient": {
            "deleting": false
          }
        }
      }
    },
    {
      "cell_type": "code",
      "source": [
        "df.columns"
      ],
      "outputs": [
        {
          "output_type": "execute_result",
          "execution_count": 5,
          "data": {
            "text/plain": "Index(['Country', 'Region', 'Population', 'Area (sq. mi.)',\n       'Pop. Density (per sq. mi.)', 'Coastline (coast/area ratio)',\n       'Net migration', 'Infant mortality (per 1000 births)',\n       'GDP ($ per capita)', 'Literacy (%)', 'Phones (per 1000)', 'Arable (%)',\n       'Crops (%)', 'Other (%)', 'Climate', 'Birthrate', 'Deathrate',\n       'Agriculture', 'Industry', 'Service'],\n      dtype='object')"
          },
          "metadata": {}
        }
      ],
      "execution_count": 5,
      "metadata": {
        "collapsed": true,
        "jupyter": {
          "source_hidden": false,
          "outputs_hidden": false
        },
        "nteract": {
          "transient": {
            "deleting": false
          }
        },
        "execution": {
          "iopub.status.busy": "2020-09-24T06:50:18.361Z",
          "iopub.execute_input": "2020-09-24T06:50:18.373Z",
          "iopub.status.idle": "2020-09-24T06:50:18.398Z",
          "shell.execute_reply": "2020-09-24T06:50:18.425Z"
        }
      }
    },
    {
      "cell_type": "code",
      "source": [
        "type(df['Population'].max())"
      ],
      "outputs": [
        {
          "output_type": "execute_result",
          "execution_count": 10,
          "data": {
            "text/plain": "int"
          },
          "metadata": {}
        }
      ],
      "execution_count": 10,
      "metadata": {
        "collapsed": true,
        "jupyter": {
          "source_hidden": false,
          "outputs_hidden": false
        },
        "nteract": {
          "transient": {
            "deleting": false
          }
        },
        "execution": {
          "iopub.status.busy": "2020-09-24T06:51:12.178Z",
          "iopub.execute_input": "2020-09-24T06:51:12.192Z",
          "iopub.status.idle": "2020-09-24T06:51:12.217Z",
          "shell.execute_reply": "2020-09-24T06:51:12.228Z"
        }
      }
    },
    {
      "cell_type": "markdown",
      "source": [
        "## Quickly look initial rows of csv file\n",
        "There are 2 options here:\n",
        "1. looking at top rows without specifying the row count\n",
        "2. we can specify how many top rows we want to see. In the example we are looking at to 10 rows. \n",
        "\n",
        "Important thing to note is that the row number starts with **0** which represents the **index** of the dataframe. "
      ],
      "metadata": {
        "nteract": {
          "transient": {
            "deleting": false
          }
        }
      }
    },
    {
      "cell_type": "code",
      "source": [
        "df.head()"
      ],
      "outputs": [
        {
          "output_type": "execute_result",
          "execution_count": 6,
          "data": {
            "text/plain": "           Country                               Region  Population  \\\n0     Afghanistan         ASIA (EX. NEAR EAST)             31056997   \n1         Albania   EASTERN EUROPE                          3581655   \n2         Algeria   NORTHERN AFRICA                        32930091   \n3  American Samoa   OCEANIA                                   57794   \n4         Andorra   WESTERN EUROPE                            71201   \n\n   Area (sq. mi.) Pop. Density (per sq. mi.) Coastline (coast/area ratio)  \\\n0          647500                       48,0                         0,00   \n1           28748                      124,6                         1,26   \n2         2381740                       13,8                         0,04   \n3             199                      290,4                        58,29   \n4             468                      152,1                         0,00   \n\n  Net migration Infant mortality (per 1000 births)  GDP ($ per capita)  \\\n0         23,06                             163,07               700.0   \n1         -4,93                              21,52              4500.0   \n2         -0,39                                 31              6000.0   \n3        -20,71                               9,27              8000.0   \n4           6,6                               4,05             19000.0   \n\n  Literacy (%) Phones (per 1000) Arable (%) Crops (%) Other (%) Climate  \\\n0         36,0               3,2      12,13      0,22     87,65       1   \n1         86,5              71,2      21,09      4,42     74,49       3   \n2         70,0              78,1       3,22      0,25     96,53       1   \n3         97,0             259,5         10        15        75       2   \n4        100,0             497,2       2,22         0     97,78       3   \n\n  Birthrate Deathrate Agriculture Industry Service  \n0      46,6     20,34        0,38     0,24    0,38  \n1     15,11      5,22       0,232    0,188   0,579  \n2     17,14      4,61       0,101      0,6   0,298  \n3     22,46      3,27         NaN      NaN     NaN  \n4      8,71      6,25         NaN      NaN     NaN  ",
            "text/html": "<div>\n<style scoped>\n    .dataframe tbody tr th:only-of-type {\n        vertical-align: middle;\n    }\n\n    .dataframe tbody tr th {\n        vertical-align: top;\n    }\n\n    .dataframe thead th {\n        text-align: right;\n    }\n</style>\n<table border=\"1\" class=\"dataframe\">\n  <thead>\n    <tr style=\"text-align: right;\">\n      <th></th>\n      <th>Country</th>\n      <th>Region</th>\n      <th>Population</th>\n      <th>Area (sq. mi.)</th>\n      <th>Pop. Density (per sq. mi.)</th>\n      <th>Coastline (coast/area ratio)</th>\n      <th>Net migration</th>\n      <th>Infant mortality (per 1000 births)</th>\n      <th>GDP ($ per capita)</th>\n      <th>Literacy (%)</th>\n      <th>Phones (per 1000)</th>\n      <th>Arable (%)</th>\n      <th>Crops (%)</th>\n      <th>Other (%)</th>\n      <th>Climate</th>\n      <th>Birthrate</th>\n      <th>Deathrate</th>\n      <th>Agriculture</th>\n      <th>Industry</th>\n      <th>Service</th>\n    </tr>\n  </thead>\n  <tbody>\n    <tr>\n      <th>0</th>\n      <td>Afghanistan</td>\n      <td>ASIA (EX. NEAR EAST)</td>\n      <td>31056997</td>\n      <td>647500</td>\n      <td>48,0</td>\n      <td>0,00</td>\n      <td>23,06</td>\n      <td>163,07</td>\n      <td>700.0</td>\n      <td>36,0</td>\n      <td>3,2</td>\n      <td>12,13</td>\n      <td>0,22</td>\n      <td>87,65</td>\n      <td>1</td>\n      <td>46,6</td>\n      <td>20,34</td>\n      <td>0,38</td>\n      <td>0,24</td>\n      <td>0,38</td>\n    </tr>\n    <tr>\n      <th>1</th>\n      <td>Albania</td>\n      <td>EASTERN EUROPE</td>\n      <td>3581655</td>\n      <td>28748</td>\n      <td>124,6</td>\n      <td>1,26</td>\n      <td>-4,93</td>\n      <td>21,52</td>\n      <td>4500.0</td>\n      <td>86,5</td>\n      <td>71,2</td>\n      <td>21,09</td>\n      <td>4,42</td>\n      <td>74,49</td>\n      <td>3</td>\n      <td>15,11</td>\n      <td>5,22</td>\n      <td>0,232</td>\n      <td>0,188</td>\n      <td>0,579</td>\n    </tr>\n    <tr>\n      <th>2</th>\n      <td>Algeria</td>\n      <td>NORTHERN AFRICA</td>\n      <td>32930091</td>\n      <td>2381740</td>\n      <td>13,8</td>\n      <td>0,04</td>\n      <td>-0,39</td>\n      <td>31</td>\n      <td>6000.0</td>\n      <td>70,0</td>\n      <td>78,1</td>\n      <td>3,22</td>\n      <td>0,25</td>\n      <td>96,53</td>\n      <td>1</td>\n      <td>17,14</td>\n      <td>4,61</td>\n      <td>0,101</td>\n      <td>0,6</td>\n      <td>0,298</td>\n    </tr>\n    <tr>\n      <th>3</th>\n      <td>American Samoa</td>\n      <td>OCEANIA</td>\n      <td>57794</td>\n      <td>199</td>\n      <td>290,4</td>\n      <td>58,29</td>\n      <td>-20,71</td>\n      <td>9,27</td>\n      <td>8000.0</td>\n      <td>97,0</td>\n      <td>259,5</td>\n      <td>10</td>\n      <td>15</td>\n      <td>75</td>\n      <td>2</td>\n      <td>22,46</td>\n      <td>3,27</td>\n      <td>NaN</td>\n      <td>NaN</td>\n      <td>NaN</td>\n    </tr>\n    <tr>\n      <th>4</th>\n      <td>Andorra</td>\n      <td>WESTERN EUROPE</td>\n      <td>71201</td>\n      <td>468</td>\n      <td>152,1</td>\n      <td>0,00</td>\n      <td>6,6</td>\n      <td>4,05</td>\n      <td>19000.0</td>\n      <td>100,0</td>\n      <td>497,2</td>\n      <td>2,22</td>\n      <td>0</td>\n      <td>97,78</td>\n      <td>3</td>\n      <td>8,71</td>\n      <td>6,25</td>\n      <td>NaN</td>\n      <td>NaN</td>\n      <td>NaN</td>\n    </tr>\n  </tbody>\n</table>\n</div>"
          },
          "metadata": {}
        }
      ],
      "execution_count": 6,
      "metadata": {
        "collapsed": true,
        "jupyter": {
          "source_hidden": false,
          "outputs_hidden": false
        },
        "nteract": {
          "transient": {
            "deleting": false
          }
        },
        "execution": {
          "iopub.status.busy": "2020-09-24T06:50:23.614Z",
          "iopub.execute_input": "2020-09-24T06:50:23.631Z",
          "iopub.status.idle": "2020-09-24T06:50:23.919Z",
          "shell.execute_reply": "2020-09-24T06:50:23.953Z"
        }
      }
    },
    {
      "cell_type": "code",
      "source": [
        "df.head(10)"
      ],
      "outputs": [],
      "execution_count": null,
      "metadata": {
        "collapsed": true,
        "jupyter": {
          "source_hidden": false,
          "outputs_hidden": false
        },
        "nteract": {
          "transient": {
            "deleting": false
          }
        },
        "execution": {
          "iopub.status.busy": "2020-08-01T09:33:57.867Z",
          "iopub.execute_input": "2020-08-01T09:33:57.874Z",
          "iopub.status.idle": "2020-08-01T09:33:58.080Z",
          "shell.execute_reply": "2020-08-01T09:33:58.107Z"
        }
      }
    },
    {
      "cell_type": "markdown",
      "source": [
        "## Looking at last records of csv file\n",
        "Similar to the above **head()** function, we can look at the last record of our dataframe.\n",
        "Use **tail()** instead of **head()** to do that. "
      ],
      "metadata": {
        "nteract": {
          "transient": {
            "deleting": false
          }
        }
      }
    },
    {
      "cell_type": "code",
      "source": [
        "df.tail()"
      ],
      "outputs": [],
      "execution_count": null,
      "metadata": {
        "collapsed": true,
        "jupyter": {
          "source_hidden": false,
          "outputs_hidden": false
        },
        "nteract": {
          "transient": {
            "deleting": false
          }
        },
        "execution": {
          "iopub.status.busy": "2020-08-01T09:39:02.370Z",
          "iopub.execute_input": "2020-08-01T09:39:02.376Z",
          "iopub.status.idle": "2020-08-01T09:39:02.390Z",
          "shell.execute_reply": "2020-08-01T09:39:02.395Z"
        }
      }
    },
    {
      "cell_type": "code",
      "source": [
        "df.tail(5)"
      ],
      "outputs": [],
      "execution_count": null,
      "metadata": {
        "collapsed": true,
        "jupyter": {
          "source_hidden": false,
          "outputs_hidden": false
        },
        "nteract": {
          "transient": {
            "deleting": false
          }
        },
        "execution": {
          "iopub.status.busy": "2020-08-01T09:39:15.843Z",
          "iopub.execute_input": "2020-08-01T09:39:15.850Z",
          "iopub.status.idle": "2020-08-01T09:39:15.865Z",
          "shell.execute_reply": "2020-08-01T09:39:15.870Z"
        }
      }
    },
    {
      "cell_type": "markdown",
      "source": [
        "## Get information about the datatypes/file\n",
        "More info on data type is written on this [link](https://pbpython.com/pandas_dtypes.html)."
      ],
      "metadata": {
        "nteract": {
          "transient": {
            "deleting": false
          }
        }
      }
    },
    {
      "cell_type": "code",
      "source": [
        "df.info()"
      ],
      "outputs": [],
      "execution_count": null,
      "metadata": {
        "collapsed": true,
        "jupyter": {
          "source_hidden": false,
          "outputs_hidden": false
        },
        "nteract": {
          "transient": {
            "deleting": false
          }
        },
        "execution": {
          "iopub.status.busy": "2020-08-01T09:42:38.266Z",
          "iopub.execute_input": "2020-08-01T09:42:38.271Z",
          "iopub.status.idle": "2020-08-01T09:42:38.302Z",
          "shell.execute_reply": "2020-08-01T09:42:38.320Z"
        }
      }
    },
    {
      "cell_type": "markdown",
      "source": [
        "## Converting csv to excel\n",
        "1. Just providing file name will create the file in the same location\n",
        "2. In order to save excel file to specific location, provide the full path with file extension. "
      ],
      "metadata": {
        "nteract": {
          "transient": {
            "deleting": false
          }
        }
      }
    },
    {
      "cell_type": "code",
      "source": [
        "df.to_excel('csv_excel.xlsx')"
      ],
      "outputs": [],
      "execution_count": null,
      "metadata": {
        "collapsed": true,
        "jupyter": {
          "source_hidden": false,
          "outputs_hidden": false
        },
        "nteract": {
          "transient": {
            "deleting": false
          }
        },
        "execution": {
          "iopub.status.busy": "2020-08-01T09:44:29.458Z",
          "iopub.execute_input": "2020-08-01T09:44:29.465Z",
          "iopub.status.idle": "2020-08-01T09:44:30.350Z",
          "shell.execute_reply": "2020-08-01T09:44:30.357Z"
        }
      }
    },
    {
      "cell_type": "markdown",
      "source": [
        "## Adding row to excel"
      ],
      "metadata": {
        "nteract": {
          "transient": {
            "deleting": false
          }
        }
      }
    },
    {
      "cell_type": "markdown",
      "source": [
        "#### Reading a smaller csv file for demo"
      ],
      "metadata": {
        "nteract": {
          "transient": {
            "deleting": false
          }
        }
      }
    },
    {
      "cell_type": "code",
      "source": [
        "df = pd.read_csv('Data/csv_add_file.csv')"
      ],
      "outputs": [],
      "execution_count": null,
      "metadata": {
        "collapsed": true,
        "jupyter": {
          "source_hidden": false,
          "outputs_hidden": false
        },
        "nteract": {
          "transient": {
            "deleting": false
          }
        },
        "execution": {
          "iopub.status.busy": "2020-08-01T09:51:28.917Z",
          "iopub.execute_input": "2020-08-01T09:51:28.927Z",
          "iopub.status.idle": "2020-08-01T09:51:28.943Z",
          "shell.execute_reply": "2020-08-01T09:51:28.952Z"
        }
      }
    },
    {
      "cell_type": "code",
      "source": [
        "df"
      ],
      "outputs": [],
      "execution_count": null,
      "metadata": {
        "collapsed": true,
        "jupyter": {
          "source_hidden": false,
          "outputs_hidden": false
        },
        "nteract": {
          "transient": {
            "deleting": false
          }
        },
        "execution": {
          "iopub.status.busy": "2020-08-01T09:51:29.428Z",
          "iopub.execute_input": "2020-08-01T09:51:29.436Z",
          "iopub.status.idle": "2020-08-01T09:51:29.457Z",
          "shell.execute_reply": "2020-08-01T09:51:29.465Z"
        }
      }
    },
    {
      "cell_type": "code",
      "source": [
        "new_row = {'Name':'Spark', 'test1':35, 'test2':48, 'test3':56}"
      ],
      "outputs": [],
      "execution_count": null,
      "metadata": {
        "collapsed": true,
        "jupyter": {
          "source_hidden": false,
          "outputs_hidden": false
        },
        "nteract": {
          "transient": {
            "deleting": false
          }
        },
        "execution": {
          "iopub.status.busy": "2020-08-01T09:52:43.597Z",
          "iopub.execute_input": "2020-08-01T09:52:43.606Z",
          "iopub.status.idle": "2020-08-01T09:52:43.620Z",
          "shell.execute_reply": "2020-08-01T09:52:43.627Z"
        }
      }
    },
    {
      "cell_type": "code",
      "source": [
        "df = df.append(new_row, ignore_index=True)"
      ],
      "outputs": [],
      "execution_count": null,
      "metadata": {
        "collapsed": true,
        "jupyter": {
          "source_hidden": false,
          "outputs_hidden": false
        },
        "nteract": {
          "transient": {
            "deleting": false
          }
        },
        "execution": {
          "iopub.status.busy": "2020-08-01T09:52:58.315Z",
          "iopub.execute_input": "2020-08-01T09:52:58.325Z",
          "iopub.status.idle": "2020-08-01T09:52:58.338Z",
          "shell.execute_reply": "2020-08-01T09:52:58.346Z"
        }
      }
    },
    {
      "cell_type": "code",
      "source": [
        "df"
      ],
      "outputs": [],
      "execution_count": null,
      "metadata": {
        "collapsed": true,
        "jupyter": {
          "source_hidden": false,
          "outputs_hidden": false
        },
        "nteract": {
          "transient": {
            "deleting": false
          }
        },
        "execution": {
          "iopub.status.busy": "2020-08-01T09:52:59.885Z",
          "iopub.execute_input": "2020-08-01T09:52:59.894Z",
          "iopub.status.idle": "2020-08-01T09:52:59.914Z",
          "shell.execute_reply": "2020-08-01T09:52:59.921Z"
        }
      }
    },
    {
      "cell_type": "markdown",
      "source": [
        "## Bonus Section\n",
        "describe()\n",
        "* describe is a very useful function for the dataframe. As you can see in the result, the describe function will provide useful information line mean, count, min value, max value etc for all the numberic column in a dataframe. This can provide imp stats information with just one line of code. \n",
        "\n",
        "[Documentation](https://pandas.pydata.org/pandas-docs/stable/reference/api/pandas.DataFrame.describe.html)"
      ],
      "metadata": {
        "nteract": {
          "transient": {
            "deleting": false
          }
        }
      }
    },
    {
      "cell_type": "code",
      "source": [
        "df.describe()"
      ],
      "outputs": [],
      "execution_count": null,
      "metadata": {
        "collapsed": true,
        "jupyter": {
          "source_hidden": false,
          "outputs_hidden": false
        },
        "nteract": {
          "transient": {
            "deleting": false
          }
        },
        "execution": {
          "iopub.status.busy": "2020-08-01T10:25:44.003Z",
          "iopub.execute_input": "2020-08-01T10:25:44.010Z",
          "iopub.status.idle": "2020-08-01T10:25:44.028Z",
          "shell.execute_reply": "2020-08-01T10:25:44.037Z"
        }
      }
    },
    {
      "cell_type": "code",
      "source": [],
      "outputs": [],
      "execution_count": null,
      "metadata": {
        "collapsed": true,
        "jupyter": {
          "source_hidden": false,
          "outputs_hidden": false
        },
        "nteract": {
          "transient": {
            "deleting": false
          }
        }
      }
    }
  ],
  "metadata": {
    "kernel_info": {
      "name": "python3"
    },
    "language_info": {
      "name": "python",
      "version": "3.7.6",
      "mimetype": "text/x-python",
      "codemirror_mode": {
        "name": "ipython",
        "version": 3
      },
      "pygments_lexer": "ipython3",
      "nbconvert_exporter": "python",
      "file_extension": ".py"
    },
    "kernelspec": {
      "argv": [
        "C:/ProgramData/Anaconda3\\python.exe",
        "-m",
        "ipykernel_launcher",
        "-f",
        "{connection_file}"
      ],
      "display_name": "Python 3",
      "language": "python",
      "name": "python3"
    },
    "nteract": {
      "version": "0.24.1"
    }
  },
  "nbformat": 4,
  "nbformat_minor": 0
}