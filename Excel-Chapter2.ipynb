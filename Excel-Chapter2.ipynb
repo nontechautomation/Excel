{
  "cells": [
    {
      "cell_type": "markdown",
      "source": [
        "## Excel to CSV conversion"
      ],
      "metadata": {
        "nteract": {
          "transient": {
            "deleting": false
          }
        }
      }
    },
    {
      "cell_type": "markdown",
      "source": [
        "### Importing pandas"
      ],
      "metadata": {
        "nteract": {
          "transient": {
            "deleting": false
          }
        }
      }
    },
    {
      "cell_type": "code",
      "source": [
        "import pandas as pd"
      ],
      "outputs": [],
      "execution_count": 8,
      "metadata": {
        "collapsed": true,
        "jupyter": {
          "source_hidden": false,
          "outputs_hidden": false
        },
        "nteract": {
          "transient": {
            "deleting": false
          }
        },
        "execution": {
          "iopub.status.busy": "2020-08-15T07:23:22.668Z",
          "iopub.execute_input": "2020-08-15T07:23:22.672Z",
          "iopub.status.idle": "2020-08-15T07:23:22.681Z",
          "shell.execute_reply": "2020-08-15T07:23:22.685Z"
        }
      }
    },
    {
      "cell_type": "markdown",
      "source": [
        "### Read CSV file palced in the Data directory. We are reading the file named"
      ],
      "metadata": {
        "nteract": {
          "transient": {
            "deleting": false
          }
        }
      }
    },
    {
      "cell_type": "code",
      "source": [
        "df = pd.read_excel('Data/Excel_02_01.xlsx')"
      ],
      "outputs": [],
      "execution_count": 10,
      "metadata": {
        "collapsed": true,
        "jupyter": {
          "source_hidden": false,
          "outputs_hidden": false
        },
        "nteract": {
          "transient": {
            "deleting": false
          }
        },
        "execution": {
          "iopub.status.busy": "2020-08-15T07:24:53.655Z",
          "iopub.execute_input": "2020-08-15T07:24:53.661Z",
          "iopub.status.idle": "2020-08-15T07:24:53.671Z",
          "shell.execute_reply": "2020-08-15T07:24:53.678Z"
        }
      }
    },
    {
      "cell_type": "markdown",
      "source": [
        "### Convert the data frame to a csv file named ```converted_csv_02_01.csv```. This file will be created in the data folder."
      ],
      "metadata": {
        "nteract": {
          "transient": {
            "deleting": false
          }
        }
      }
    },
    {
      "cell_type": "code",
      "source": [
        "df.to_csv('Data/converted_csv_02_01.csv')"
      ],
      "outputs": [],
      "execution_count": 6,
      "metadata": {
        "collapsed": true,
        "jupyter": {
          "source_hidden": false,
          "outputs_hidden": false
        },
        "nteract": {
          "transient": {
            "deleting": false
          }
        },
        "execution": {
          "iopub.status.busy": "2020-08-15T07:21:06.801Z",
          "iopub.execute_input": "2020-08-15T07:21:06.805Z",
          "iopub.status.idle": "2020-08-15T07:21:06.814Z",
          "shell.execute_reply": "2020-08-15T07:21:06.818Z"
        }
      }
    },
    {
      "cell_type": "code",
      "source": [],
      "outputs": [],
      "execution_count": null,
      "metadata": {
        "collapsed": true,
        "jupyter": {
          "source_hidden": false,
          "outputs_hidden": false
        },
        "nteract": {
          "transient": {
            "deleting": false
          }
        }
      }
    }
  ],
  "metadata": {
    "kernel_info": {
      "name": "python3"
    },
    "language_info": {
      "name": "python",
      "version": "3.7.6",
      "mimetype": "text/x-python",
      "codemirror_mode": {
        "name": "ipython",
        "version": 3
      },
      "pygments_lexer": "ipython3",
      "nbconvert_exporter": "python",
      "file_extension": ".py"
    },
    "kernelspec": {
      "argv": [
        "C:/ProgramData/Anaconda3\\python.exe",
        "-m",
        "ipykernel_launcher",
        "-f",
        "{connection_file}"
      ],
      "display_name": "Python 3",
      "language": "python",
      "name": "python3"
    },
    "nteract": {
      "version": "0.24.1"
    }
  },
  "nbformat": 4,
  "nbformat_minor": 0
}