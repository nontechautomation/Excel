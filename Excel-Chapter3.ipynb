{
  "cells": [
    {
      "cell_type": "markdown",
      "source": [
        "## Converting multiple files (Excel -> CSV) and (CSV -> Excel)"
      ],
      "metadata": {
        "nteract": {
          "transient": {
            "deleting": false
          }
        }
      }
    },
    {
      "cell_type": "markdown",
      "source": [
        "### List basics"
      ],
      "metadata": {
        "nteract": {
          "transient": {
            "deleting": false
          }
        }
      }
    },
    {
      "cell_type": "markdown",
      "source": [
        "1. Lists are one of the most commonly used data types in python.In order to perform mass conversion between csv and excel, it is important to understand how lists work.\n",
        "2. List can be defined by assigning comma separated values between squre brackets.\n",
        "Example 1: ```list1 = [1,2,3,4]```\n",
        "Example 2: ```list2 = ['india','US','UK','Australia']```\n",
        "3. List can hold numbers and text(String). \n",
        "\n",
        "Resource: [Tutorials-point list](https://www.tutorialspoint.com/python3/python_lists.htm)\n"
      ],
      "metadata": {
        "nteract": {
          "transient": {
            "deleting": false
          }
        }
      }
    },
    {
      "cell_type": "markdown",
      "source": [
        "### Create a list\n",
        "Here we are creating a list of 4 element. 1,2,3,4. "
      ],
      "metadata": {
        "nteract": {
          "transient": {
            "deleting": false
          }
        }
      }
    },
    {
      "cell_type": "code",
      "source": [
        "list = [1,2,3,4]"
      ],
      "outputs": [],
      "execution_count": 1,
      "metadata": {
        "collapsed": true,
        "jupyter": {
          "source_hidden": false,
          "outputs_hidden": false
        },
        "nteract": {
          "transient": {
            "deleting": false
          }
        },
        "execution": {
          "iopub.status.busy": "2020-08-15T07:50:12.442Z",
          "iopub.execute_input": "2020-08-15T07:50:12.448Z",
          "iopub.status.idle": "2020-08-15T07:50:12.456Z",
          "shell.execute_reply": "2020-08-15T07:50:12.460Z"
        }
      }
    },
    {
      "cell_type": "markdown",
      "source": [
        "### Finding the lenght of list\n",
        "This is useful when the list is large and we want to check the number of element present in the list.\n",
        "Here we are using in-built python function [len()](https://docs.python.org/3/library/functions.html#len)\n",
        "We are passing the list in the function which will give us the length of the list"
      ],
      "metadata": {
        "nteract": {
          "transient": {
            "deleting": false
          }
        }
      }
    },
    {
      "cell_type": "code",
      "source": [
        "len(list)"
      ],
      "outputs": [
        {
          "output_type": "execute_result",
          "execution_count": 2,
          "data": {
            "text/plain": "4"
          },
          "metadata": {}
        }
      ],
      "execution_count": 2,
      "metadata": {
        "collapsed": true,
        "jupyter": {
          "source_hidden": false,
          "outputs_hidden": false
        },
        "nteract": {
          "transient": {
            "deleting": false
          }
        },
        "execution": {
          "iopub.status.busy": "2020-08-15T07:59:58.295Z",
          "iopub.execute_input": "2020-08-15T07:59:58.300Z",
          "iopub.status.idle": "2020-08-15T07:59:58.318Z",
          "shell.execute_reply": "2020-08-15T07:59:58.329Z"
        }
      }
    },
    {
      "cell_type": "markdown",
      "source": [
        "### Iterating over a list\n",
        "* This is a useful scenario when there is some computation that needs to be taken place on every element of the list. \n",
        "* Syntax: ```for <variable> in <list>:```\n",
        "\n",
        "There are 2 examples provided here:\n",
        "* Ex1: Iterate and print all element in a list\n",
        "* Ex2: Add 1 to every element of list\n",
        "\n",
        "Reference: [for loop](https://www.tutorialspoint.com/python/python_for_loop.htm)\n"
      ],
      "metadata": {
        "nteract": {
          "transient": {
            "deleting": false
          }
        }
      }
    },
    {
      "cell_type": "code",
      "source": [
        "for number in list:\n",
        "    print(number)"
      ],
      "outputs": [
        {
          "output_type": "stream",
          "name": "stdout",
          "text": [
            "1\n",
            "2\n",
            "3\n",
            "4\n"
          ]
        }
      ],
      "execution_count": 3,
      "metadata": {
        "collapsed": true,
        "jupyter": {
          "source_hidden": false,
          "outputs_hidden": false
        },
        "nteract": {
          "transient": {
            "deleting": false
          }
        },
        "execution": {
          "iopub.status.busy": "2020-08-15T08:09:36.487Z",
          "iopub.execute_input": "2020-08-15T08:09:36.492Z",
          "iopub.status.idle": "2020-08-15T08:09:36.507Z",
          "shell.execute_reply": "2020-08-15T08:09:36.514Z"
        }
      }
    },
    {
      "cell_type": "code",
      "source": [
        "for number in list:\n",
        "    print(number+1)"
      ],
      "outputs": [
        {
          "output_type": "stream",
          "name": "stdout",
          "text": [
            "2\n",
            "3\n",
            "4\n",
            "5\n"
          ]
        }
      ],
      "execution_count": 4,
      "metadata": {
        "collapsed": true,
        "jupyter": {
          "source_hidden": false,
          "outputs_hidden": false
        },
        "nteract": {
          "transient": {
            "deleting": false
          }
        },
        "execution": {
          "iopub.status.busy": "2020-08-15T08:10:57.080Z",
          "iopub.execute_input": "2020-08-15T08:10:57.088Z",
          "iopub.status.idle": "2020-08-15T08:10:57.114Z",
          "shell.execute_reply": "2020-08-15T08:10:57.124Z"
        }
      }
    },
    {
      "cell_type": "markdown",
      "source": [
        "___"
      ],
      "metadata": {
        "nteract": {
          "transient": {
            "deleting": false
          }
        }
      }
    },
    {
      "cell_type": "markdown",
      "source": [
        "## Converting multiple files"
      ],
      "metadata": {
        "nteract": {
          "transient": {
            "deleting": false
          }
        }
      }
    },
    {
      "cell_type": "markdown",
      "source": [
        "### Importing required libraries\n",
        "* Here we are going to use 3 libraries. glob, os and pandas."
      ],
      "metadata": {
        "nteract": {
          "transient": {
            "deleting": false
          }
        }
      }
    },
    {
      "cell_type": "code",
      "source": [
        "import glob\n",
        "import os\n",
        "import pandas as pd"
      ],
      "outputs": [],
      "execution_count": 5,
      "metadata": {
        "collapsed": true,
        "jupyter": {
          "source_hidden": false,
          "outputs_hidden": false
        },
        "nteract": {
          "transient": {
            "deleting": false
          }
        },
        "execution": {
          "iopub.status.busy": "2020-08-15T08:23:13.618Z",
          "iopub.execute_input": "2020-08-15T08:23:13.623Z",
          "shell.execute_reply": "2020-08-15T08:23:14.055Z",
          "iopub.status.idle": "2020-08-15T08:23:14.066Z"
        }
      }
    },
    {
      "cell_type": "markdown",
      "source": [
        "### Get current directory and data directory\n",
        "1. Here we are using [getcwd()](https://www.tutorialspoint.com/python/os_getcwd.htm) to get the current working directory path. So this will give us the path of the current file. \n",
        "2. In the next step, we are using [os.path.join](https://docs.python.org/3/library/os.path.html) to go to the Data directory.\n",
        "\n",
        "Explaination: \n",
        "* In the first cell, we are storing the current working directory in the variable named ```current_folder```. For instance the its value is: ```D:\\python\\excel```\n",
        "* We have a folder named ```Data``` in the current folder, we will use the second cell and pass the ```current_folder``` and name of the folder in single quotes which is ```Data``` in out case. \n",
        "\n",
        "```Data_folder``` will have the path ```D:\\python\\excel\\Data```"
      ],
      "metadata": {
        "nteract": {
          "transient": {
            "deleting": false
          }
        }
      }
    },
    {
      "cell_type": "code",
      "source": [
        "current_folder = os.getcwd()\n",
        "print(current_folder)"
      ],
      "outputs": [
        {
          "output_type": "stream",
          "name": "stdout",
          "text": [
            "D:\\Vasav\\Youtube Channel\\Excel\n"
          ]
        }
      ],
      "execution_count": 7,
      "metadata": {
        "collapsed": true,
        "jupyter": {
          "source_hidden": false,
          "outputs_hidden": false
        },
        "nteract": {
          "transient": {
            "deleting": false
          }
        },
        "execution": {
          "iopub.status.busy": "2020-08-15T08:26:13.551Z",
          "iopub.execute_input": "2020-08-15T08:26:13.557Z",
          "iopub.status.idle": "2020-08-15T08:26:13.570Z",
          "shell.execute_reply": "2020-08-15T08:26:13.574Z"
        }
      }
    },
    {
      "cell_type": "code",
      "source": [
        "Data_folder = os.path.join(current_folder,'Data')\n",
        "print(Data_folder)"
      ],
      "outputs": [
        {
          "output_type": "stream",
          "name": "stdout",
          "text": [
            "D:\\Vasav\\Youtube Channel\\Excel\\Data\n"
          ]
        }
      ],
      "execution_count": 9,
      "metadata": {
        "collapsed": true,
        "jupyter": {
          "source_hidden": false,
          "outputs_hidden": false
        },
        "nteract": {
          "transient": {
            "deleting": false
          }
        },
        "execution": {
          "iopub.status.busy": "2020-08-15T08:28:09.498Z",
          "iopub.execute_input": "2020-08-15T08:28:09.504Z",
          "iopub.status.idle": "2020-08-15T08:28:09.516Z",
          "shell.execute_reply": "2020-08-15T08:28:09.523Z"
        }
      }
    },
    {
      "cell_type": "markdown",
      "source": [
        "### Getting list of csv files in the folder\n",
        "* In the first cell we are getting the list of csv files and storing that list in variable named ```csv_list```\n"
      ],
      "metadata": {
        "nteract": {
          "transient": {
            "deleting": false
          }
        }
      }
    },
    {
      "cell_type": "code",
      "source": [
        "csv_list = glob.glob(os.path.join(Data_folder, \"*.csv\"))\n",
        "print(csv_list)"
      ],
      "outputs": [
        {
          "output_type": "stream",
          "name": "stdout",
          "text": [
            "['D:\\\\Vasav\\\\Youtube Channel\\\\Excel\\\\Data\\\\converted_csv_02_01.csv', 'D:\\\\Vasav\\\\Youtube Channel\\\\Excel\\\\Data\\\\csv_add_file.csv', 'D:\\\\Vasav\\\\Youtube Channel\\\\Excel\\\\Data\\\\datasets_countries.csv']\n"
          ]
        }
      ],
      "execution_count": 12,
      "metadata": {
        "collapsed": true,
        "jupyter": {
          "source_hidden": false,
          "outputs_hidden": false
        },
        "nteract": {
          "transient": {
            "deleting": false
          }
        },
        "execution": {
          "iopub.status.busy": "2020-08-15T08:38:03.865Z",
          "iopub.execute_input": "2020-08-15T08:38:03.872Z",
          "iopub.status.idle": "2020-08-15T08:38:03.885Z",
          "shell.execute_reply": "2020-08-15T08:38:03.892Z"
        }
      }
    },
    {
      "cell_type": "markdown",
      "source": [
        "### Iterate and convert files"
      ],
      "metadata": {
        "nteract": {
          "transient": {
            "deleting": false
          }
        }
      }
    },
    {
      "cell_type": "code",
      "source": [
        "converted_file_prefix = 'file'\n",
        "index = 0\n",
        "for file in csv_list:\n",
        "  df = pd.read_csv(file)\n",
        "  df.to_excel(converted_file_prefix+str(index)+\".xlsx\")\n",
        "  index = index + 1"
      ],
      "outputs": [],
      "execution_count": 14,
      "metadata": {
        "collapsed": true,
        "jupyter": {
          "source_hidden": false,
          "outputs_hidden": false
        },
        "nteract": {
          "transient": {
            "deleting": false
          }
        },
        "execution": {
          "iopub.status.busy": "2020-08-15T08:40:55.948Z",
          "iopub.execute_input": "2020-08-15T08:40:55.956Z",
          "iopub.status.idle": "2020-08-15T08:40:56.999Z",
          "shell.execute_reply": "2020-08-15T08:40:56.989Z"
        }
      }
    },
    {
      "cell_type": "markdown",
      "source": [
        "### Getting list of excel files in the folder"
      ],
      "metadata": {
        "nteract": {
          "transient": {
            "deleting": false
          }
        }
      }
    },
    {
      "cell_type": "code",
      "source": [
        "excel_list = glob.glob(os.path.join(Data_folder, \"*.xlsx\"))\n",
        "print(excel_list)"
      ],
      "outputs": [
        {
          "output_type": "stream",
          "name": "stdout",
          "text": [
            "['D:\\\\Vasav\\\\Youtube Channel\\\\Excel\\\\Data\\\\Excel_02_01.xlsx']\n"
          ]
        }
      ],
      "execution_count": 15,
      "metadata": {
        "collapsed": true,
        "jupyter": {
          "source_hidden": false,
          "outputs_hidden": false
        },
        "nteract": {
          "transient": {
            "deleting": false
          }
        },
        "execution": {
          "iopub.status.busy": "2020-08-15T08:44:01.045Z",
          "iopub.execute_input": "2020-08-15T08:44:01.060Z",
          "iopub.status.idle": "2020-08-15T08:44:01.076Z",
          "shell.execute_reply": "2020-08-15T08:44:01.083Z"
        }
      }
    },
    {
      "cell_type": "code",
      "source": [
        "converted_file_prefix = 'file'\n",
        "index = 0\n",
        "for file in excel_list:\n",
        "  df = pd.read_excel(file)\n",
        "  df.to_csv(converted_file_prefix+str(index)+\".csv\")\n",
        "  index = index + 1"
      ],
      "outputs": [],
      "execution_count": 18,
      "metadata": {
        "collapsed": true,
        "jupyter": {
          "source_hidden": false,
          "outputs_hidden": false
        },
        "nteract": {
          "transient": {
            "deleting": false
          }
        },
        "execution": {
          "iopub.status.busy": "2020-08-15T08:45:15.353Z",
          "iopub.execute_input": "2020-08-15T08:45:15.360Z",
          "iopub.status.idle": "2020-08-15T08:45:15.376Z",
          "shell.execute_reply": "2020-08-15T08:45:15.383Z"
        }
      }
    },
    {
      "cell_type": "markdown",
      "source": [
        "### These operations will place the converted files in the same folder as script. In the future tutorials, we will conver how to name the file same as the source file. In addition to that we can also cover to put converted files in specific folder. "
      ],
      "metadata": {
        "nteract": {
          "transient": {
            "deleting": false
          }
        }
      }
    },
    {
      "cell_type": "markdown",
      "source": [],
      "metadata": {
        "nteract": {
          "transient": {
            "deleting": false
          }
        }
      }
    }
  ],
  "metadata": {
    "kernel_info": {
      "name": "python3"
    },
    "language_info": {
      "name": "python",
      "version": "3.7.6",
      "mimetype": "text/x-python",
      "codemirror_mode": {
        "name": "ipython",
        "version": 3
      },
      "pygments_lexer": "ipython3",
      "nbconvert_exporter": "python",
      "file_extension": ".py"
    },
    "kernelspec": {
      "argv": [
        "C:/ProgramData/Anaconda3\\python.exe",
        "-m",
        "ipykernel_launcher",
        "-f",
        "{connection_file}"
      ],
      "display_name": "Python 3",
      "language": "python",
      "name": "python3"
    },
    "nteract": {
      "version": "0.24.1"
    }
  },
  "nbformat": 4,
  "nbformat_minor": 0
}