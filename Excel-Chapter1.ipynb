{
  "cells": [
    {
      "cell_type": "markdown",
      "source": [
        "## Excel - Chapter 1 - Basic CSV Operations\n",
        "\n",
        "#### Objective\n",
        "1. Reading csv file\n",
        "2. Exporting/copying csv file\n",
        "3. Convert csv to excel"
      ],
      "metadata": {
        "nteract": {
          "transient": {
            "deleting": false
          }
        }
      }
    },
    {
      "cell_type": "markdown",
      "source": [
        "## Importing required libraries\n"
      ],
      "metadata": {
        "nteract": {
          "transient": {
            "deleting": false
          }
        }
      }
    },
    {
      "cell_type": "code",
      "source": [
        "import pandas as pd"
      ],
      "outputs": [],
      "execution_count": 2,
      "metadata": {
        "collapsed": true,
        "jupyter": {
          "source_hidden": false,
          "outputs_hidden": false
        },
        "nteract": {
          "transient": {
            "deleting": false
          }
        },
        "execution": {
          "iopub.status.busy": "2020-08-01T09:24:59.691Z",
          "iopub.execute_input": "2020-08-01T09:24:59.694Z",
          "shell.execute_reply": "2020-08-01T09:25:06.303Z",
          "iopub.status.idle": "2020-08-01T09:25:06.309Z"
        }
      }
    },
    {
      "cell_type": "markdown",
      "source": [
        "## Reading CSV file\n",
        "\n",
        "* Here we are reading the csv file named ```datasets_countries.csv```\n",
        "* Since the file is placed inside the directory/folder named data, we have to specify the path as ```Data/datasets_countries.csv```\n",
        "* If the file is placed in other driver then full path can also be used \"C:\\data\\db\\test.csv\".\n",
        "* Here we are reading the file as a dataframe and storing it in variable **df**\n",
        "\n",
        "#### TIP\n",
        "* Pressing **ctrl + space** will autocomplete the syntax"
      ],
      "metadata": {
        "nteract": {
          "transient": {
            "deleting": false
          }
        }
      }
    },
    {
      "cell_type": "code",
      "source": [
        "df = pd.read_csv('Data/datasets_countries.csv')\n",
        "# df = pd.read_csv('D:\\Data\\datasets_countries.csv')"
      ],
      "outputs": [],
      "execution_count": 9,
      "metadata": {
        "collapsed": true,
        "jupyter": {
          "source_hidden": false,
          "outputs_hidden": false
        },
        "nteract": {
          "transient": {
            "deleting": false
          }
        },
        "execution": {
          "iopub.status.busy": "2020-08-01T09:31:27.375Z",
          "iopub.execute_input": "2020-08-01T09:31:27.380Z",
          "shell.execute_reply": "2020-08-01T09:31:27.393Z",
          "iopub.status.idle": "2020-08-01T09:31:27.388Z"
        }
      }
    },
    {
      "cell_type": "markdown",
      "source": [
        "## Getting list of CSV columns "
      ],
      "metadata": {
        "nteract": {
          "transient": {
            "deleting": false
          }
        }
      }
    },
    {
      "cell_type": "code",
      "source": [
        "df.columns"
      ],
      "outputs": [
        {
          "output_type": "execute_result",
          "execution_count": 11,
          "data": {
            "text/plain": "Index(['Country', 'Region', 'Population', 'Area (sq. mi.)',\n       'Pop. Density (per sq. mi.)', 'Coastline (coast/area ratio)',\n       'Net migration', 'Infant mortality (per 1000 births)',\n       'GDP ($ per capita)', 'Literacy (%)', 'Phones (per 1000)', 'Arable (%)',\n       'Crops (%)', 'Other (%)', 'Climate', 'Birthrate', 'Deathrate',\n       'Agriculture', 'Industry', 'Service'],\n      dtype='object')"
          },
          "metadata": {}
        }
      ],
      "execution_count": 11,
      "metadata": {
        "collapsed": true,
        "jupyter": {
          "source_hidden": false,
          "outputs_hidden": false
        },
        "nteract": {
          "transient": {
            "deleting": false
          }
        },
        "execution": {
          "iopub.status.busy": "2020-08-01T09:32:07.729Z",
          "iopub.execute_input": "2020-08-01T09:32:07.736Z",
          "iopub.status.idle": "2020-08-01T09:32:07.747Z",
          "shell.execute_reply": "2020-08-01T09:32:07.753Z"
        }
      }
    },
    {
      "cell_type": "markdown",
      "source": [
        "## Quickly look initial rows of csv file\n",
        "There are 2 options here:\n",
        "1. looking at top rows without specifying the row count\n",
        "2. we can specify how many top rows we want to see. In the example we are looking at to 10 rows. \n",
        "\n",
        "Important thing to note is that the row number starts with **0** which represents the **index** of the dataframe. "
      ],
      "metadata": {
        "nteract": {
          "transient": {
            "deleting": false
          }
        }
      }
    },
    {
      "cell_type": "code",
      "source": [
        "df.head()"
      ],
      "outputs": [
        {
          "output_type": "execute_result",
          "execution_count": 14,
          "data": {
            "text/plain": "           Country                               Region  Population  \\\n0     Afghanistan         ASIA (EX. NEAR EAST)             31056997   \n1         Albania   EASTERN EUROPE                          3581655   \n2         Algeria   NORTHERN AFRICA                        32930091   \n3  American Samoa   OCEANIA                                   57794   \n4         Andorra   WESTERN EUROPE                            71201   \n\n   Area (sq. mi.) Pop. Density (per sq. mi.) Coastline (coast/area ratio)  \\\n0          647500                       48,0                         0,00   \n1           28748                      124,6                         1,26   \n2         2381740                       13,8                         0,04   \n3             199                      290,4                        58,29   \n4             468                      152,1                         0,00   \n\n  Net migration Infant mortality (per 1000 births)  GDP ($ per capita)  \\\n0         23,06                             163,07               700.0   \n1         -4,93                              21,52              4500.0   \n2         -0,39                                 31              6000.0   \n3        -20,71                               9,27              8000.0   \n4           6,6                               4,05             19000.0   \n\n  Literacy (%) Phones (per 1000) Arable (%) Crops (%) Other (%) Climate  \\\n0         36,0               3,2      12,13      0,22     87,65       1   \n1         86,5              71,2      21,09      4,42     74,49       3   \n2         70,0              78,1       3,22      0,25     96,53       1   \n3         97,0             259,5         10        15        75       2   \n4        100,0             497,2       2,22         0     97,78       3   \n\n  Birthrate Deathrate Agriculture Industry Service  \n0      46,6     20,34        0,38     0,24    0,38  \n1     15,11      5,22       0,232    0,188   0,579  \n2     17,14      4,61       0,101      0,6   0,298  \n3     22,46      3,27         NaN      NaN     NaN  \n4      8,71      6,25         NaN      NaN     NaN  ",
            "text/html": "<div>\n<style scoped>\n    .dataframe tbody tr th:only-of-type {\n        vertical-align: middle;\n    }\n\n    .dataframe tbody tr th {\n        vertical-align: top;\n    }\n\n    .dataframe thead th {\n        text-align: right;\n    }\n</style>\n<table border=\"1\" class=\"dataframe\">\n  <thead>\n    <tr style=\"text-align: right;\">\n      <th></th>\n      <th>Country</th>\n      <th>Region</th>\n      <th>Population</th>\n      <th>Area (sq. mi.)</th>\n      <th>Pop. Density (per sq. mi.)</th>\n      <th>Coastline (coast/area ratio)</th>\n      <th>Net migration</th>\n      <th>Infant mortality (per 1000 births)</th>\n      <th>GDP ($ per capita)</th>\n      <th>Literacy (%)</th>\n      <th>Phones (per 1000)</th>\n      <th>Arable (%)</th>\n      <th>Crops (%)</th>\n      <th>Other (%)</th>\n      <th>Climate</th>\n      <th>Birthrate</th>\n      <th>Deathrate</th>\n      <th>Agriculture</th>\n      <th>Industry</th>\n      <th>Service</th>\n    </tr>\n  </thead>\n  <tbody>\n    <tr>\n      <th>0</th>\n      <td>Afghanistan</td>\n      <td>ASIA (EX. NEAR EAST)</td>\n      <td>31056997</td>\n      <td>647500</td>\n      <td>48,0</td>\n      <td>0,00</td>\n      <td>23,06</td>\n      <td>163,07</td>\n      <td>700.0</td>\n      <td>36,0</td>\n      <td>3,2</td>\n      <td>12,13</td>\n      <td>0,22</td>\n      <td>87,65</td>\n      <td>1</td>\n      <td>46,6</td>\n      <td>20,34</td>\n      <td>0,38</td>\n      <td>0,24</td>\n      <td>0,38</td>\n    </tr>\n    <tr>\n      <th>1</th>\n      <td>Albania</td>\n      <td>EASTERN EUROPE</td>\n      <td>3581655</td>\n      <td>28748</td>\n      <td>124,6</td>\n      <td>1,26</td>\n      <td>-4,93</td>\n      <td>21,52</td>\n      <td>4500.0</td>\n      <td>86,5</td>\n      <td>71,2</td>\n      <td>21,09</td>\n      <td>4,42</td>\n      <td>74,49</td>\n      <td>3</td>\n      <td>15,11</td>\n      <td>5,22</td>\n      <td>0,232</td>\n      <td>0,188</td>\n      <td>0,579</td>\n    </tr>\n    <tr>\n      <th>2</th>\n      <td>Algeria</td>\n      <td>NORTHERN AFRICA</td>\n      <td>32930091</td>\n      <td>2381740</td>\n      <td>13,8</td>\n      <td>0,04</td>\n      <td>-0,39</td>\n      <td>31</td>\n      <td>6000.0</td>\n      <td>70,0</td>\n      <td>78,1</td>\n      <td>3,22</td>\n      <td>0,25</td>\n      <td>96,53</td>\n      <td>1</td>\n      <td>17,14</td>\n      <td>4,61</td>\n      <td>0,101</td>\n      <td>0,6</td>\n      <td>0,298</td>\n    </tr>\n    <tr>\n      <th>3</th>\n      <td>American Samoa</td>\n      <td>OCEANIA</td>\n      <td>57794</td>\n      <td>199</td>\n      <td>290,4</td>\n      <td>58,29</td>\n      <td>-20,71</td>\n      <td>9,27</td>\n      <td>8000.0</td>\n      <td>97,0</td>\n      <td>259,5</td>\n      <td>10</td>\n      <td>15</td>\n      <td>75</td>\n      <td>2</td>\n      <td>22,46</td>\n      <td>3,27</td>\n      <td>NaN</td>\n      <td>NaN</td>\n      <td>NaN</td>\n    </tr>\n    <tr>\n      <th>4</th>\n      <td>Andorra</td>\n      <td>WESTERN EUROPE</td>\n      <td>71201</td>\n      <td>468</td>\n      <td>152,1</td>\n      <td>0,00</td>\n      <td>6,6</td>\n      <td>4,05</td>\n      <td>19000.0</td>\n      <td>100,0</td>\n      <td>497,2</td>\n      <td>2,22</td>\n      <td>0</td>\n      <td>97,78</td>\n      <td>3</td>\n      <td>8,71</td>\n      <td>6,25</td>\n      <td>NaN</td>\n      <td>NaN</td>\n      <td>NaN</td>\n    </tr>\n  </tbody>\n</table>\n</div>"
          },
          "metadata": {}
        }
      ],
      "execution_count": 14,
      "metadata": {
        "collapsed": true,
        "jupyter": {
          "source_hidden": false,
          "outputs_hidden": false
        },
        "nteract": {
          "transient": {
            "deleting": false
          }
        },
        "execution": {
          "iopub.status.busy": "2020-08-01T09:33:37.879Z",
          "iopub.execute_input": "2020-08-01T09:33:37.884Z",
          "iopub.status.idle": "2020-08-01T09:33:37.900Z",
          "shell.execute_reply": "2020-08-01T09:33:37.906Z"
        }
      }
    },
    {
      "cell_type": "code",
      "source": [
        "df.head(10)"
      ],
      "outputs": [
        {
          "output_type": "execute_result",
          "execution_count": 15,
          "data": {
            "text/plain": "              Country                               Region  Population  \\\n0        Afghanistan         ASIA (EX. NEAR EAST)             31056997   \n1            Albania   EASTERN EUROPE                          3581655   \n2            Algeria   NORTHERN AFRICA                        32930091   \n3     American Samoa   OCEANIA                                   57794   \n4            Andorra   WESTERN EUROPE                            71201   \n5             Angola   SUB-SAHARAN AFRICA                     12127071   \n6           Anguilla               LATIN AMER. & CARIB           13477   \n7  Antigua & Barbuda               LATIN AMER. & CARIB           69108   \n8          Argentina               LATIN AMER. & CARIB        39921833   \n9            Armenia                  C.W. OF IND. STATES      2976372   \n\n   Area (sq. mi.) Pop. Density (per sq. mi.) Coastline (coast/area ratio)  \\\n0          647500                       48,0                         0,00   \n1           28748                      124,6                         1,26   \n2         2381740                       13,8                         0,04   \n3             199                      290,4                        58,29   \n4             468                      152,1                         0,00   \n5         1246700                        9,7                         0,13   \n6             102                      132,1                        59,80   \n7             443                      156,0                        34,54   \n8         2766890                       14,4                         0,18   \n9           29800                       99,9                         0,00   \n\n  Net migration Infant mortality (per 1000 births)  GDP ($ per capita)  \\\n0         23,06                             163,07               700.0   \n1         -4,93                              21,52              4500.0   \n2         -0,39                                 31              6000.0   \n3        -20,71                               9,27              8000.0   \n4           6,6                               4,05             19000.0   \n5             0                             191,19              1900.0   \n6         10,76                              21,03              8600.0   \n7         -6,15                              19,46             11000.0   \n8          0,61                              15,18             11200.0   \n9         -6,47                              23,28              3500.0   \n\n  Literacy (%) Phones (per 1000) Arable (%) Crops (%) Other (%) Climate  \\\n0         36,0               3,2      12,13      0,22     87,65       1   \n1         86,5              71,2      21,09      4,42     74,49       3   \n2         70,0              78,1       3,22      0,25     96,53       1   \n3         97,0             259,5         10        15        75       2   \n4        100,0             497,2       2,22         0     97,78       3   \n5         42,0               7,8       2,41      0,24     97,35     NaN   \n6         95,0             460,0          0         0       100       2   \n7         89,0             549,9      18,18      4,55     77,27       2   \n8         97,1             220,4      12,31      0,48     87,21       3   \n9         98,6             195,7      17,55       2,3     80,15       4   \n\n  Birthrate Deathrate Agriculture Industry Service  \n0      46,6     20,34        0,38     0,24    0,38  \n1     15,11      5,22       0,232    0,188   0,579  \n2     17,14      4,61       0,101      0,6   0,298  \n3     22,46      3,27         NaN      NaN     NaN  \n4      8,71      6,25         NaN      NaN     NaN  \n5     45,11      24,2       0,096    0,658   0,246  \n6     14,17      5,34        0,04     0,18    0,78  \n7     16,93      5,37       0,038     0,22   0,743  \n8     16,73      7,55       0,095    0,358   0,547  \n9     12,07      8,23       0,239    0,343   0,418  ",
            "text/html": "<div>\n<style scoped>\n    .dataframe tbody tr th:only-of-type {\n        vertical-align: middle;\n    }\n\n    .dataframe tbody tr th {\n        vertical-align: top;\n    }\n\n    .dataframe thead th {\n        text-align: right;\n    }\n</style>\n<table border=\"1\" class=\"dataframe\">\n  <thead>\n    <tr style=\"text-align: right;\">\n      <th></th>\n      <th>Country</th>\n      <th>Region</th>\n      <th>Population</th>\n      <th>Area (sq. mi.)</th>\n      <th>Pop. Density (per sq. mi.)</th>\n      <th>Coastline (coast/area ratio)</th>\n      <th>Net migration</th>\n      <th>Infant mortality (per 1000 births)</th>\n      <th>GDP ($ per capita)</th>\n      <th>Literacy (%)</th>\n      <th>Phones (per 1000)</th>\n      <th>Arable (%)</th>\n      <th>Crops (%)</th>\n      <th>Other (%)</th>\n      <th>Climate</th>\n      <th>Birthrate</th>\n      <th>Deathrate</th>\n      <th>Agriculture</th>\n      <th>Industry</th>\n      <th>Service</th>\n    </tr>\n  </thead>\n  <tbody>\n    <tr>\n      <th>0</th>\n      <td>Afghanistan</td>\n      <td>ASIA (EX. NEAR EAST)</td>\n      <td>31056997</td>\n      <td>647500</td>\n      <td>48,0</td>\n      <td>0,00</td>\n      <td>23,06</td>\n      <td>163,07</td>\n      <td>700.0</td>\n      <td>36,0</td>\n      <td>3,2</td>\n      <td>12,13</td>\n      <td>0,22</td>\n      <td>87,65</td>\n      <td>1</td>\n      <td>46,6</td>\n      <td>20,34</td>\n      <td>0,38</td>\n      <td>0,24</td>\n      <td>0,38</td>\n    </tr>\n    <tr>\n      <th>1</th>\n      <td>Albania</td>\n      <td>EASTERN EUROPE</td>\n      <td>3581655</td>\n      <td>28748</td>\n      <td>124,6</td>\n      <td>1,26</td>\n      <td>-4,93</td>\n      <td>21,52</td>\n      <td>4500.0</td>\n      <td>86,5</td>\n      <td>71,2</td>\n      <td>21,09</td>\n      <td>4,42</td>\n      <td>74,49</td>\n      <td>3</td>\n      <td>15,11</td>\n      <td>5,22</td>\n      <td>0,232</td>\n      <td>0,188</td>\n      <td>0,579</td>\n    </tr>\n    <tr>\n      <th>2</th>\n      <td>Algeria</td>\n      <td>NORTHERN AFRICA</td>\n      <td>32930091</td>\n      <td>2381740</td>\n      <td>13,8</td>\n      <td>0,04</td>\n      <td>-0,39</td>\n      <td>31</td>\n      <td>6000.0</td>\n      <td>70,0</td>\n      <td>78,1</td>\n      <td>3,22</td>\n      <td>0,25</td>\n      <td>96,53</td>\n      <td>1</td>\n      <td>17,14</td>\n      <td>4,61</td>\n      <td>0,101</td>\n      <td>0,6</td>\n      <td>0,298</td>\n    </tr>\n    <tr>\n      <th>3</th>\n      <td>American Samoa</td>\n      <td>OCEANIA</td>\n      <td>57794</td>\n      <td>199</td>\n      <td>290,4</td>\n      <td>58,29</td>\n      <td>-20,71</td>\n      <td>9,27</td>\n      <td>8000.0</td>\n      <td>97,0</td>\n      <td>259,5</td>\n      <td>10</td>\n      <td>15</td>\n      <td>75</td>\n      <td>2</td>\n      <td>22,46</td>\n      <td>3,27</td>\n      <td>NaN</td>\n      <td>NaN</td>\n      <td>NaN</td>\n    </tr>\n    <tr>\n      <th>4</th>\n      <td>Andorra</td>\n      <td>WESTERN EUROPE</td>\n      <td>71201</td>\n      <td>468</td>\n      <td>152,1</td>\n      <td>0,00</td>\n      <td>6,6</td>\n      <td>4,05</td>\n      <td>19000.0</td>\n      <td>100,0</td>\n      <td>497,2</td>\n      <td>2,22</td>\n      <td>0</td>\n      <td>97,78</td>\n      <td>3</td>\n      <td>8,71</td>\n      <td>6,25</td>\n      <td>NaN</td>\n      <td>NaN</td>\n      <td>NaN</td>\n    </tr>\n    <tr>\n      <th>5</th>\n      <td>Angola</td>\n      <td>SUB-SAHARAN AFRICA</td>\n      <td>12127071</td>\n      <td>1246700</td>\n      <td>9,7</td>\n      <td>0,13</td>\n      <td>0</td>\n      <td>191,19</td>\n      <td>1900.0</td>\n      <td>42,0</td>\n      <td>7,8</td>\n      <td>2,41</td>\n      <td>0,24</td>\n      <td>97,35</td>\n      <td>NaN</td>\n      <td>45,11</td>\n      <td>24,2</td>\n      <td>0,096</td>\n      <td>0,658</td>\n      <td>0,246</td>\n    </tr>\n    <tr>\n      <th>6</th>\n      <td>Anguilla</td>\n      <td>LATIN AMER. &amp; CARIB</td>\n      <td>13477</td>\n      <td>102</td>\n      <td>132,1</td>\n      <td>59,80</td>\n      <td>10,76</td>\n      <td>21,03</td>\n      <td>8600.0</td>\n      <td>95,0</td>\n      <td>460,0</td>\n      <td>0</td>\n      <td>0</td>\n      <td>100</td>\n      <td>2</td>\n      <td>14,17</td>\n      <td>5,34</td>\n      <td>0,04</td>\n      <td>0,18</td>\n      <td>0,78</td>\n    </tr>\n    <tr>\n      <th>7</th>\n      <td>Antigua &amp; Barbuda</td>\n      <td>LATIN AMER. &amp; CARIB</td>\n      <td>69108</td>\n      <td>443</td>\n      <td>156,0</td>\n      <td>34,54</td>\n      <td>-6,15</td>\n      <td>19,46</td>\n      <td>11000.0</td>\n      <td>89,0</td>\n      <td>549,9</td>\n      <td>18,18</td>\n      <td>4,55</td>\n      <td>77,27</td>\n      <td>2</td>\n      <td>16,93</td>\n      <td>5,37</td>\n      <td>0,038</td>\n      <td>0,22</td>\n      <td>0,743</td>\n    </tr>\n    <tr>\n      <th>8</th>\n      <td>Argentina</td>\n      <td>LATIN AMER. &amp; CARIB</td>\n      <td>39921833</td>\n      <td>2766890</td>\n      <td>14,4</td>\n      <td>0,18</td>\n      <td>0,61</td>\n      <td>15,18</td>\n      <td>11200.0</td>\n      <td>97,1</td>\n      <td>220,4</td>\n      <td>12,31</td>\n      <td>0,48</td>\n      <td>87,21</td>\n      <td>3</td>\n      <td>16,73</td>\n      <td>7,55</td>\n      <td>0,095</td>\n      <td>0,358</td>\n      <td>0,547</td>\n    </tr>\n    <tr>\n      <th>9</th>\n      <td>Armenia</td>\n      <td>C.W. OF IND. STATES</td>\n      <td>2976372</td>\n      <td>29800</td>\n      <td>99,9</td>\n      <td>0,00</td>\n      <td>-6,47</td>\n      <td>23,28</td>\n      <td>3500.0</td>\n      <td>98,6</td>\n      <td>195,7</td>\n      <td>17,55</td>\n      <td>2,3</td>\n      <td>80,15</td>\n      <td>4</td>\n      <td>12,07</td>\n      <td>8,23</td>\n      <td>0,239</td>\n      <td>0,343</td>\n      <td>0,418</td>\n    </tr>\n  </tbody>\n</table>\n</div>"
          },
          "metadata": {}
        }
      ],
      "execution_count": 15,
      "metadata": {
        "collapsed": true,
        "jupyter": {
          "source_hidden": false,
          "outputs_hidden": false
        },
        "nteract": {
          "transient": {
            "deleting": false
          }
        },
        "execution": {
          "iopub.status.busy": "2020-08-01T09:33:57.867Z",
          "iopub.execute_input": "2020-08-01T09:33:57.874Z",
          "iopub.status.idle": "2020-08-01T09:33:58.080Z",
          "shell.execute_reply": "2020-08-01T09:33:58.107Z"
        }
      }
    },
    {
      "cell_type": "markdown",
      "source": [
        "## Looking at last records of csv file\n",
        "Similar to the above **head()** function, we can look at the last record of our dataframe.\n",
        "Use **tail()** instead of **head()** to do that. "
      ],
      "metadata": {
        "nteract": {
          "transient": {
            "deleting": false
          }
        }
      }
    },
    {
      "cell_type": "code",
      "source": [
        "df.tail()"
      ],
      "outputs": [
        {
          "output_type": "execute_result",
          "execution_count": 17,
          "data": {
            "text/plain": "             Country                               Region  Population  \\\n222       West Bank   NEAR EAST                               2460492   \n223  Western Sahara   NORTHERN AFRICA                          273008   \n224           Yemen   NEAR EAST                              21456188   \n225          Zambia   SUB-SAHARAN AFRICA                     11502010   \n226        Zimbabwe   SUB-SAHARAN AFRICA                     12236805   \n\n     Area (sq. mi.) Pop. Density (per sq. mi.) Coastline (coast/area ratio)  \\\n222            5860                      419,9                         0,00   \n223          266000                        1,0                         0,42   \n224          527970                       40,6                         0,36   \n225          752614                       15,3                         0,00   \n226          390580                       31,3                         0,00   \n\n    Net migration Infant mortality (per 1000 births)  GDP ($ per capita)  \\\n222          2,98                              19,62               800.0   \n223           NaN                                NaN                 NaN   \n224             0                               61,5               800.0   \n225             0                              88,29               800.0   \n226             0                              67,69              1900.0   \n\n    Literacy (%) Phones (per 1000) Arable (%) Crops (%) Other (%) Climate  \\\n222          NaN             145,2       16,9     18,97     64,13       3   \n223          NaN               NaN       0,02         0     99,98       1   \n224         50,2              37,2       2,78      0,24     96,98       1   \n225         80,6               8,2       7,08      0,03      92,9       2   \n226         90,7              26,8       8,32      0,34     91,34       2   \n\n    Birthrate Deathrate Agriculture Industry Service  \n222     31,67      3,92        0,09     0,28    0,63  \n223       NaN       NaN         NaN      NaN     0,4  \n224     42,89       8,3       0,135    0,472   0,393  \n225        41     19,93        0,22     0,29   0,489  \n226     28,01     21,84       0,179    0,243   0,579  ",
            "text/html": "<div>\n<style scoped>\n    .dataframe tbody tr th:only-of-type {\n        vertical-align: middle;\n    }\n\n    .dataframe tbody tr th {\n        vertical-align: top;\n    }\n\n    .dataframe thead th {\n        text-align: right;\n    }\n</style>\n<table border=\"1\" class=\"dataframe\">\n  <thead>\n    <tr style=\"text-align: right;\">\n      <th></th>\n      <th>Country</th>\n      <th>Region</th>\n      <th>Population</th>\n      <th>Area (sq. mi.)</th>\n      <th>Pop. Density (per sq. mi.)</th>\n      <th>Coastline (coast/area ratio)</th>\n      <th>Net migration</th>\n      <th>Infant mortality (per 1000 births)</th>\n      <th>GDP ($ per capita)</th>\n      <th>Literacy (%)</th>\n      <th>Phones (per 1000)</th>\n      <th>Arable (%)</th>\n      <th>Crops (%)</th>\n      <th>Other (%)</th>\n      <th>Climate</th>\n      <th>Birthrate</th>\n      <th>Deathrate</th>\n      <th>Agriculture</th>\n      <th>Industry</th>\n      <th>Service</th>\n    </tr>\n  </thead>\n  <tbody>\n    <tr>\n      <th>222</th>\n      <td>West Bank</td>\n      <td>NEAR EAST</td>\n      <td>2460492</td>\n      <td>5860</td>\n      <td>419,9</td>\n      <td>0,00</td>\n      <td>2,98</td>\n      <td>19,62</td>\n      <td>800.0</td>\n      <td>NaN</td>\n      <td>145,2</td>\n      <td>16,9</td>\n      <td>18,97</td>\n      <td>64,13</td>\n      <td>3</td>\n      <td>31,67</td>\n      <td>3,92</td>\n      <td>0,09</td>\n      <td>0,28</td>\n      <td>0,63</td>\n    </tr>\n    <tr>\n      <th>223</th>\n      <td>Western Sahara</td>\n      <td>NORTHERN AFRICA</td>\n      <td>273008</td>\n      <td>266000</td>\n      <td>1,0</td>\n      <td>0,42</td>\n      <td>NaN</td>\n      <td>NaN</td>\n      <td>NaN</td>\n      <td>NaN</td>\n      <td>NaN</td>\n      <td>0,02</td>\n      <td>0</td>\n      <td>99,98</td>\n      <td>1</td>\n      <td>NaN</td>\n      <td>NaN</td>\n      <td>NaN</td>\n      <td>NaN</td>\n      <td>0,4</td>\n    </tr>\n    <tr>\n      <th>224</th>\n      <td>Yemen</td>\n      <td>NEAR EAST</td>\n      <td>21456188</td>\n      <td>527970</td>\n      <td>40,6</td>\n      <td>0,36</td>\n      <td>0</td>\n      <td>61,5</td>\n      <td>800.0</td>\n      <td>50,2</td>\n      <td>37,2</td>\n      <td>2,78</td>\n      <td>0,24</td>\n      <td>96,98</td>\n      <td>1</td>\n      <td>42,89</td>\n      <td>8,3</td>\n      <td>0,135</td>\n      <td>0,472</td>\n      <td>0,393</td>\n    </tr>\n    <tr>\n      <th>225</th>\n      <td>Zambia</td>\n      <td>SUB-SAHARAN AFRICA</td>\n      <td>11502010</td>\n      <td>752614</td>\n      <td>15,3</td>\n      <td>0,00</td>\n      <td>0</td>\n      <td>88,29</td>\n      <td>800.0</td>\n      <td>80,6</td>\n      <td>8,2</td>\n      <td>7,08</td>\n      <td>0,03</td>\n      <td>92,9</td>\n      <td>2</td>\n      <td>41</td>\n      <td>19,93</td>\n      <td>0,22</td>\n      <td>0,29</td>\n      <td>0,489</td>\n    </tr>\n    <tr>\n      <th>226</th>\n      <td>Zimbabwe</td>\n      <td>SUB-SAHARAN AFRICA</td>\n      <td>12236805</td>\n      <td>390580</td>\n      <td>31,3</td>\n      <td>0,00</td>\n      <td>0</td>\n      <td>67,69</td>\n      <td>1900.0</td>\n      <td>90,7</td>\n      <td>26,8</td>\n      <td>8,32</td>\n      <td>0,34</td>\n      <td>91,34</td>\n      <td>2</td>\n      <td>28,01</td>\n      <td>21,84</td>\n      <td>0,179</td>\n      <td>0,243</td>\n      <td>0,579</td>\n    </tr>\n  </tbody>\n</table>\n</div>"
          },
          "metadata": {}
        }
      ],
      "execution_count": 17,
      "metadata": {
        "collapsed": true,
        "jupyter": {
          "source_hidden": false,
          "outputs_hidden": false
        },
        "nteract": {
          "transient": {
            "deleting": false
          }
        },
        "execution": {
          "iopub.status.busy": "2020-08-01T09:39:02.370Z",
          "iopub.execute_input": "2020-08-01T09:39:02.376Z",
          "iopub.status.idle": "2020-08-01T09:39:02.390Z",
          "shell.execute_reply": "2020-08-01T09:39:02.395Z"
        }
      }
    },
    {
      "cell_type": "code",
      "source": [
        "df.tail(5)"
      ],
      "outputs": [
        {
          "output_type": "execute_result",
          "execution_count": 18,
          "data": {
            "text/plain": "             Country                               Region  Population  \\\n222       West Bank   NEAR EAST                               2460492   \n223  Western Sahara   NORTHERN AFRICA                          273008   \n224           Yemen   NEAR EAST                              21456188   \n225          Zambia   SUB-SAHARAN AFRICA                     11502010   \n226        Zimbabwe   SUB-SAHARAN AFRICA                     12236805   \n\n     Area (sq. mi.) Pop. Density (per sq. mi.) Coastline (coast/area ratio)  \\\n222            5860                      419,9                         0,00   \n223          266000                        1,0                         0,42   \n224          527970                       40,6                         0,36   \n225          752614                       15,3                         0,00   \n226          390580                       31,3                         0,00   \n\n    Net migration Infant mortality (per 1000 births)  GDP ($ per capita)  \\\n222          2,98                              19,62               800.0   \n223           NaN                                NaN                 NaN   \n224             0                               61,5               800.0   \n225             0                              88,29               800.0   \n226             0                              67,69              1900.0   \n\n    Literacy (%) Phones (per 1000) Arable (%) Crops (%) Other (%) Climate  \\\n222          NaN             145,2       16,9     18,97     64,13       3   \n223          NaN               NaN       0,02         0     99,98       1   \n224         50,2              37,2       2,78      0,24     96,98       1   \n225         80,6               8,2       7,08      0,03      92,9       2   \n226         90,7              26,8       8,32      0,34     91,34       2   \n\n    Birthrate Deathrate Agriculture Industry Service  \n222     31,67      3,92        0,09     0,28    0,63  \n223       NaN       NaN         NaN      NaN     0,4  \n224     42,89       8,3       0,135    0,472   0,393  \n225        41     19,93        0,22     0,29   0,489  \n226     28,01     21,84       0,179    0,243   0,579  ",
            "text/html": "<div>\n<style scoped>\n    .dataframe tbody tr th:only-of-type {\n        vertical-align: middle;\n    }\n\n    .dataframe tbody tr th {\n        vertical-align: top;\n    }\n\n    .dataframe thead th {\n        text-align: right;\n    }\n</style>\n<table border=\"1\" class=\"dataframe\">\n  <thead>\n    <tr style=\"text-align: right;\">\n      <th></th>\n      <th>Country</th>\n      <th>Region</th>\n      <th>Population</th>\n      <th>Area (sq. mi.)</th>\n      <th>Pop. Density (per sq. mi.)</th>\n      <th>Coastline (coast/area ratio)</th>\n      <th>Net migration</th>\n      <th>Infant mortality (per 1000 births)</th>\n      <th>GDP ($ per capita)</th>\n      <th>Literacy (%)</th>\n      <th>Phones (per 1000)</th>\n      <th>Arable (%)</th>\n      <th>Crops (%)</th>\n      <th>Other (%)</th>\n      <th>Climate</th>\n      <th>Birthrate</th>\n      <th>Deathrate</th>\n      <th>Agriculture</th>\n      <th>Industry</th>\n      <th>Service</th>\n    </tr>\n  </thead>\n  <tbody>\n    <tr>\n      <th>222</th>\n      <td>West Bank</td>\n      <td>NEAR EAST</td>\n      <td>2460492</td>\n      <td>5860</td>\n      <td>419,9</td>\n      <td>0,00</td>\n      <td>2,98</td>\n      <td>19,62</td>\n      <td>800.0</td>\n      <td>NaN</td>\n      <td>145,2</td>\n      <td>16,9</td>\n      <td>18,97</td>\n      <td>64,13</td>\n      <td>3</td>\n      <td>31,67</td>\n      <td>3,92</td>\n      <td>0,09</td>\n      <td>0,28</td>\n      <td>0,63</td>\n    </tr>\n    <tr>\n      <th>223</th>\n      <td>Western Sahara</td>\n      <td>NORTHERN AFRICA</td>\n      <td>273008</td>\n      <td>266000</td>\n      <td>1,0</td>\n      <td>0,42</td>\n      <td>NaN</td>\n      <td>NaN</td>\n      <td>NaN</td>\n      <td>NaN</td>\n      <td>NaN</td>\n      <td>0,02</td>\n      <td>0</td>\n      <td>99,98</td>\n      <td>1</td>\n      <td>NaN</td>\n      <td>NaN</td>\n      <td>NaN</td>\n      <td>NaN</td>\n      <td>0,4</td>\n    </tr>\n    <tr>\n      <th>224</th>\n      <td>Yemen</td>\n      <td>NEAR EAST</td>\n      <td>21456188</td>\n      <td>527970</td>\n      <td>40,6</td>\n      <td>0,36</td>\n      <td>0</td>\n      <td>61,5</td>\n      <td>800.0</td>\n      <td>50,2</td>\n      <td>37,2</td>\n      <td>2,78</td>\n      <td>0,24</td>\n      <td>96,98</td>\n      <td>1</td>\n      <td>42,89</td>\n      <td>8,3</td>\n      <td>0,135</td>\n      <td>0,472</td>\n      <td>0,393</td>\n    </tr>\n    <tr>\n      <th>225</th>\n      <td>Zambia</td>\n      <td>SUB-SAHARAN AFRICA</td>\n      <td>11502010</td>\n      <td>752614</td>\n      <td>15,3</td>\n      <td>0,00</td>\n      <td>0</td>\n      <td>88,29</td>\n      <td>800.0</td>\n      <td>80,6</td>\n      <td>8,2</td>\n      <td>7,08</td>\n      <td>0,03</td>\n      <td>92,9</td>\n      <td>2</td>\n      <td>41</td>\n      <td>19,93</td>\n      <td>0,22</td>\n      <td>0,29</td>\n      <td>0,489</td>\n    </tr>\n    <tr>\n      <th>226</th>\n      <td>Zimbabwe</td>\n      <td>SUB-SAHARAN AFRICA</td>\n      <td>12236805</td>\n      <td>390580</td>\n      <td>31,3</td>\n      <td>0,00</td>\n      <td>0</td>\n      <td>67,69</td>\n      <td>1900.0</td>\n      <td>90,7</td>\n      <td>26,8</td>\n      <td>8,32</td>\n      <td>0,34</td>\n      <td>91,34</td>\n      <td>2</td>\n      <td>28,01</td>\n      <td>21,84</td>\n      <td>0,179</td>\n      <td>0,243</td>\n      <td>0,579</td>\n    </tr>\n  </tbody>\n</table>\n</div>"
          },
          "metadata": {}
        }
      ],
      "execution_count": 18,
      "metadata": {
        "collapsed": true,
        "jupyter": {
          "source_hidden": false,
          "outputs_hidden": false
        },
        "nteract": {
          "transient": {
            "deleting": false
          }
        },
        "execution": {
          "iopub.status.busy": "2020-08-01T09:39:15.843Z",
          "iopub.execute_input": "2020-08-01T09:39:15.850Z",
          "iopub.status.idle": "2020-08-01T09:39:15.865Z",
          "shell.execute_reply": "2020-08-01T09:39:15.870Z"
        }
      }
    },
    {
      "cell_type": "markdown",
      "source": [
        "## Get information about the datatypes/file\n",
        "More info on data type is written on this [link](https://pbpython.com/pandas_dtypes.html)."
      ],
      "metadata": {
        "nteract": {
          "transient": {
            "deleting": false
          }
        }
      }
    },
    {
      "cell_type": "code",
      "source": [
        "df.info()"
      ],
      "outputs": [
        {
          "output_type": "stream",
          "name": "stdout",
          "text": [
            "<class 'pandas.core.frame.DataFrame'>\n",
            "RangeIndex: 227 entries, 0 to 226\n",
            "Data columns (total 20 columns):\n",
            " #   Column                              Non-Null Count  Dtype  \n",
            "---  ------                              --------------  -----  \n",
            " 0   Country                             227 non-null    object \n",
            " 1   Region                              227 non-null    object \n",
            " 2   Population                          227 non-null    int64  \n",
            " 3   Area (sq. mi.)                      227 non-null    int64  \n",
            " 4   Pop. Density (per sq. mi.)          227 non-null    object \n",
            " 5   Coastline (coast/area ratio)        227 non-null    object \n",
            " 6   Net migration                       224 non-null    object \n",
            " 7   Infant mortality (per 1000 births)  224 non-null    object \n",
            " 8   GDP ($ per capita)                  226 non-null    float64\n",
            " 9   Literacy (%)                        209 non-null    object \n",
            " 10  Phones (per 1000)                   223 non-null    object \n",
            " 11  Arable (%)                          225 non-null    object \n",
            " 12  Crops (%)                           225 non-null    object \n",
            " 13  Other (%)                           225 non-null    object \n",
            " 14  Climate                             205 non-null    object \n",
            " 15  Birthrate                           224 non-null    object \n",
            " 16  Deathrate                           223 non-null    object \n",
            " 17  Agriculture                         212 non-null    object \n",
            " 18  Industry                            211 non-null    object \n",
            " 19  Service                             212 non-null    object \n",
            "dtypes: float64(1), int64(2), object(17)\n",
            "memory usage: 35.6+ KB\n"
          ]
        }
      ],
      "execution_count": 19,
      "metadata": {
        "collapsed": true,
        "jupyter": {
          "source_hidden": false,
          "outputs_hidden": false
        },
        "nteract": {
          "transient": {
            "deleting": false
          }
        },
        "execution": {
          "iopub.status.busy": "2020-08-01T09:42:38.266Z",
          "iopub.execute_input": "2020-08-01T09:42:38.271Z",
          "iopub.status.idle": "2020-08-01T09:42:38.302Z",
          "shell.execute_reply": "2020-08-01T09:42:38.320Z"
        }
      }
    },
    {
      "cell_type": "markdown",
      "source": [
        "## Converting csv to excel\n",
        "1. Just providing file name will create the file in the same location\n",
        "2. In order to save excel file to specific location, provide the full path with file extension. "
      ],
      "metadata": {
        "nteract": {
          "transient": {
            "deleting": false
          }
        }
      }
    },
    {
      "cell_type": "code",
      "source": [
        "df.to_excel('csv_excel.xlsx')"
      ],
      "outputs": [],
      "execution_count": 20,
      "metadata": {
        "collapsed": true,
        "jupyter": {
          "source_hidden": false,
          "outputs_hidden": false
        },
        "nteract": {
          "transient": {
            "deleting": false
          }
        },
        "execution": {
          "iopub.status.busy": "2020-08-01T09:44:29.458Z",
          "iopub.execute_input": "2020-08-01T09:44:29.465Z",
          "iopub.status.idle": "2020-08-01T09:44:30.350Z",
          "shell.execute_reply": "2020-08-01T09:44:30.357Z"
        }
      }
    },
    {
      "cell_type": "markdown",
      "source": [
        "## Adding row to excel"
      ],
      "metadata": {
        "nteract": {
          "transient": {
            "deleting": false
          }
        }
      }
    },
    {
      "cell_type": "markdown",
      "source": [
        "#### Reading a smaller csv file for demo"
      ],
      "metadata": {
        "nteract": {
          "transient": {
            "deleting": false
          }
        }
      }
    },
    {
      "cell_type": "code",
      "source": [
        "df = pd.read_csv('Data/csv_add_file.csv')"
      ],
      "outputs": [],
      "execution_count": 30,
      "metadata": {
        "collapsed": true,
        "jupyter": {
          "source_hidden": false,
          "outputs_hidden": false
        },
        "nteract": {
          "transient": {
            "deleting": false
          }
        },
        "execution": {
          "iopub.status.busy": "2020-08-01T09:51:28.917Z",
          "iopub.execute_input": "2020-08-01T09:51:28.927Z",
          "iopub.status.idle": "2020-08-01T09:51:28.943Z",
          "shell.execute_reply": "2020-08-01T09:51:28.952Z"
        }
      }
    },
    {
      "cell_type": "code",
      "source": [
        "df"
      ],
      "outputs": [
        {
          "output_type": "execute_result",
          "execution_count": 31,
          "data": {
            "text/plain": "         Name  test1  test2  test3\n0       Panda     68     84     78\n1       Koala     74     56     88\n2  Databricks     77     73     82\n3    Database     78     69     87",
            "text/html": "<div>\n<style scoped>\n    .dataframe tbody tr th:only-of-type {\n        vertical-align: middle;\n    }\n\n    .dataframe tbody tr th {\n        vertical-align: top;\n    }\n\n    .dataframe thead th {\n        text-align: right;\n    }\n</style>\n<table border=\"1\" class=\"dataframe\">\n  <thead>\n    <tr style=\"text-align: right;\">\n      <th></th>\n      <th>Name</th>\n      <th>test1</th>\n      <th>test2</th>\n      <th>test3</th>\n    </tr>\n  </thead>\n  <tbody>\n    <tr>\n      <th>0</th>\n      <td>Panda</td>\n      <td>68</td>\n      <td>84</td>\n      <td>78</td>\n    </tr>\n    <tr>\n      <th>1</th>\n      <td>Koala</td>\n      <td>74</td>\n      <td>56</td>\n      <td>88</td>\n    </tr>\n    <tr>\n      <th>2</th>\n      <td>Databricks</td>\n      <td>77</td>\n      <td>73</td>\n      <td>82</td>\n    </tr>\n    <tr>\n      <th>3</th>\n      <td>Database</td>\n      <td>78</td>\n      <td>69</td>\n      <td>87</td>\n    </tr>\n  </tbody>\n</table>\n</div>"
          },
          "metadata": {}
        }
      ],
      "execution_count": 31,
      "metadata": {
        "collapsed": true,
        "jupyter": {
          "source_hidden": false,
          "outputs_hidden": false
        },
        "nteract": {
          "transient": {
            "deleting": false
          }
        },
        "execution": {
          "iopub.status.busy": "2020-08-01T09:51:29.428Z",
          "iopub.execute_input": "2020-08-01T09:51:29.436Z",
          "iopub.status.idle": "2020-08-01T09:51:29.457Z",
          "shell.execute_reply": "2020-08-01T09:51:29.465Z"
        }
      }
    },
    {
      "cell_type": "code",
      "source": [
        "new_row = {'Name':'Spark', 'test1':35, 'test2':48, 'test3':56}"
      ],
      "outputs": [],
      "execution_count": 32,
      "metadata": {
        "collapsed": true,
        "jupyter": {
          "source_hidden": false,
          "outputs_hidden": false
        },
        "nteract": {
          "transient": {
            "deleting": false
          }
        },
        "execution": {
          "iopub.status.busy": "2020-08-01T09:52:43.597Z",
          "iopub.execute_input": "2020-08-01T09:52:43.606Z",
          "iopub.status.idle": "2020-08-01T09:52:43.620Z",
          "shell.execute_reply": "2020-08-01T09:52:43.627Z"
        }
      }
    },
    {
      "cell_type": "code",
      "source": [
        "df = df.append(new_row, ignore_index=True)"
      ],
      "outputs": [],
      "execution_count": 33,
      "metadata": {
        "collapsed": true,
        "jupyter": {
          "source_hidden": false,
          "outputs_hidden": false
        },
        "nteract": {
          "transient": {
            "deleting": false
          }
        },
        "execution": {
          "iopub.status.busy": "2020-08-01T09:52:58.315Z",
          "iopub.execute_input": "2020-08-01T09:52:58.325Z",
          "iopub.status.idle": "2020-08-01T09:52:58.338Z",
          "shell.execute_reply": "2020-08-01T09:52:58.346Z"
        }
      }
    },
    {
      "cell_type": "code",
      "source": [
        "df"
      ],
      "outputs": [
        {
          "output_type": "execute_result",
          "execution_count": 34,
          "data": {
            "text/plain": "         Name  test1  test2  test3\n0       Panda     68     84     78\n1       Koala     74     56     88\n2  Databricks     77     73     82\n3    Database     78     69     87\n4       Spark     35     48     56",
            "text/html": "<div>\n<style scoped>\n    .dataframe tbody tr th:only-of-type {\n        vertical-align: middle;\n    }\n\n    .dataframe tbody tr th {\n        vertical-align: top;\n    }\n\n    .dataframe thead th {\n        text-align: right;\n    }\n</style>\n<table border=\"1\" class=\"dataframe\">\n  <thead>\n    <tr style=\"text-align: right;\">\n      <th></th>\n      <th>Name</th>\n      <th>test1</th>\n      <th>test2</th>\n      <th>test3</th>\n    </tr>\n  </thead>\n  <tbody>\n    <tr>\n      <th>0</th>\n      <td>Panda</td>\n      <td>68</td>\n      <td>84</td>\n      <td>78</td>\n    </tr>\n    <tr>\n      <th>1</th>\n      <td>Koala</td>\n      <td>74</td>\n      <td>56</td>\n      <td>88</td>\n    </tr>\n    <tr>\n      <th>2</th>\n      <td>Databricks</td>\n      <td>77</td>\n      <td>73</td>\n      <td>82</td>\n    </tr>\n    <tr>\n      <th>3</th>\n      <td>Database</td>\n      <td>78</td>\n      <td>69</td>\n      <td>87</td>\n    </tr>\n    <tr>\n      <th>4</th>\n      <td>Spark</td>\n      <td>35</td>\n      <td>48</td>\n      <td>56</td>\n    </tr>\n  </tbody>\n</table>\n</div>"
          },
          "metadata": {}
        }
      ],
      "execution_count": 34,
      "metadata": {
        "collapsed": true,
        "jupyter": {
          "source_hidden": false,
          "outputs_hidden": false
        },
        "nteract": {
          "transient": {
            "deleting": false
          }
        },
        "execution": {
          "iopub.status.busy": "2020-08-01T09:52:59.885Z",
          "iopub.execute_input": "2020-08-01T09:52:59.894Z",
          "iopub.status.idle": "2020-08-01T09:52:59.914Z",
          "shell.execute_reply": "2020-08-01T09:52:59.921Z"
        }
      }
    },
    {
      "cell_type": "markdown",
      "source": [
        "## Bonus Section\n",
        "describe()\n",
        "* describe is a very useful function for the dataframe. As you can see in the result, the describe function will provide useful information line mean, count, min value, max value etc for all the numberic column in a dataframe. This can provide imp stats information with just one line of code. \n",
        "\n",
        "[Documentation](https://pandas.pydata.org/pandas-docs/stable/reference/api/pandas.DataFrame.describe.html)"
      ],
      "metadata": {
        "nteract": {
          "transient": {
            "deleting": false
          }
        }
      }
    },
    {
      "cell_type": "code",
      "source": [
        "df.describe()"
      ],
      "outputs": [
        {
          "output_type": "execute_result",
          "execution_count": 37,
          "data": {
            "text/plain": "           test1     test2      test3\ncount   5.000000   5.00000   5.000000\nmean   66.400000  66.00000  78.200000\nstd    17.980545  14.19507  13.046072\nmin    35.000000  48.00000  56.000000\n25%    68.000000  56.00000  78.000000\n50%    74.000000  69.00000  82.000000\n75%    77.000000  73.00000  87.000000\nmax    78.000000  84.00000  88.000000",
            "text/html": "<div>\n<style scoped>\n    .dataframe tbody tr th:only-of-type {\n        vertical-align: middle;\n    }\n\n    .dataframe tbody tr th {\n        vertical-align: top;\n    }\n\n    .dataframe thead th {\n        text-align: right;\n    }\n</style>\n<table border=\"1\" class=\"dataframe\">\n  <thead>\n    <tr style=\"text-align: right;\">\n      <th></th>\n      <th>test1</th>\n      <th>test2</th>\n      <th>test3</th>\n    </tr>\n  </thead>\n  <tbody>\n    <tr>\n      <th>count</th>\n      <td>5.000000</td>\n      <td>5.00000</td>\n      <td>5.000000</td>\n    </tr>\n    <tr>\n      <th>mean</th>\n      <td>66.400000</td>\n      <td>66.00000</td>\n      <td>78.200000</td>\n    </tr>\n    <tr>\n      <th>std</th>\n      <td>17.980545</td>\n      <td>14.19507</td>\n      <td>13.046072</td>\n    </tr>\n    <tr>\n      <th>min</th>\n      <td>35.000000</td>\n      <td>48.00000</td>\n      <td>56.000000</td>\n    </tr>\n    <tr>\n      <th>25%</th>\n      <td>68.000000</td>\n      <td>56.00000</td>\n      <td>78.000000</td>\n    </tr>\n    <tr>\n      <th>50%</th>\n      <td>74.000000</td>\n      <td>69.00000</td>\n      <td>82.000000</td>\n    </tr>\n    <tr>\n      <th>75%</th>\n      <td>77.000000</td>\n      <td>73.00000</td>\n      <td>87.000000</td>\n    </tr>\n    <tr>\n      <th>max</th>\n      <td>78.000000</td>\n      <td>84.00000</td>\n      <td>88.000000</td>\n    </tr>\n  </tbody>\n</table>\n</div>"
          },
          "metadata": {}
        }
      ],
      "execution_count": 37,
      "metadata": {
        "collapsed": true,
        "jupyter": {
          "source_hidden": false,
          "outputs_hidden": false
        },
        "nteract": {
          "transient": {
            "deleting": false
          }
        },
        "execution": {
          "iopub.status.busy": "2020-08-01T10:25:44.003Z",
          "iopub.execute_input": "2020-08-01T10:25:44.010Z",
          "iopub.status.idle": "2020-08-01T10:25:44.028Z",
          "shell.execute_reply": "2020-08-01T10:25:44.037Z"
        }
      }
    },
    {
      "cell_type": "code",
      "source": [],
      "outputs": [],
      "execution_count": null,
      "metadata": {
        "collapsed": true,
        "jupyter": {
          "source_hidden": false,
          "outputs_hidden": false
        },
        "nteract": {
          "transient": {
            "deleting": false
          }
        }
      }
    }
  ],
  "metadata": {
    "kernel_info": {
      "name": "python3"
    },
    "language_info": {
      "name": "python",
      "version": "3.7.6",
      "mimetype": "text/x-python",
      "codemirror_mode": {
        "name": "ipython",
        "version": 3
      },
      "pygments_lexer": "ipython3",
      "nbconvert_exporter": "python",
      "file_extension": ".py"
    },
    "kernelspec": {
      "argv": [
        "C:/ProgramData/Anaconda3\\python.exe",
        "-m",
        "ipykernel_launcher",
        "-f",
        "{connection_file}"
      ],
      "display_name": "Python 3",
      "language": "python",
      "name": "python3"
    },
    "nteract": {
      "version": "0.24.0"
    }
  },
  "nbformat": 4,
  "nbformat_minor": 0
}